{
  "nbformat": 4,
  "nbformat_minor": 0,
  "metadata": {
    "colab": {
      "name": "mammoClassification.ipynb",
      "provenance": [],
      "collapsed_sections": []
    },
    "kernelspec": {
      "name": "python3",
      "display_name": "Python 3"
    }
  },
  "cells": [
    {
      "cell_type": "markdown",
      "metadata": {
        "id": "t9Bhay6DSaeK",
        "colab_type": "text"
      },
      "source": [
        "# CP8318 Project"
      ]
    },
    {
      "cell_type": "markdown",
      "metadata": {
        "id": "RxG6KpZ0Sl17",
        "colab_type": "text"
      },
      "source": [
        "**Downloading Python Packages**"
      ]
    },
    {
      "cell_type": "code",
      "metadata": {
        "id": "SPfn16QtWHhN",
        "colab_type": "code",
        "outputId": "6043cd3f-707e-459b-cc3d-1d25f914b423",
        "colab": {
          "base_uri": "https://localhost:8080/",
          "height": 1000
        }
      },
      "source": [
        "!pip install matplotlib\n",
        "!pip install scikit-learn\n",
        "!pip install skimage\n",
        "!pip install pydicom\n",
        "!pip install scipy\n",
        "!pip install SimpleITK\n",
        "!pip install pyradiomics\n",
        "!pip install opencv-python\n",
        "!pip install seaborn\n",
        "!pip3 install torch torchvision\n",
        "!pip install pywavelets"
      ],
      "execution_count": 1,
      "outputs": [
        {
          "output_type": "stream",
          "text": [
            "Requirement already satisfied: matplotlib in /usr/local/lib/python3.6/dist-packages (3.1.2)\n",
            "Requirement already satisfied: pyparsing!=2.0.4,!=2.1.2,!=2.1.6,>=2.0.1 in /usr/local/lib/python3.6/dist-packages (from matplotlib) (2.4.5)\n",
            "Requirement already satisfied: python-dateutil>=2.1 in /usr/local/lib/python3.6/dist-packages (from matplotlib) (2.6.1)\n",
            "Requirement already satisfied: cycler>=0.10 in /usr/local/lib/python3.6/dist-packages (from matplotlib) (0.10.0)\n",
            "Requirement already satisfied: numpy>=1.11 in /usr/local/lib/python3.6/dist-packages (from matplotlib) (1.17.4)\n",
            "Requirement already satisfied: kiwisolver>=1.0.1 in /usr/local/lib/python3.6/dist-packages (from matplotlib) (1.1.0)\n",
            "Requirement already satisfied: six>=1.5 in /usr/local/lib/python3.6/dist-packages (from python-dateutil>=2.1->matplotlib) (1.12.0)\n",
            "Requirement already satisfied: setuptools in /usr/local/lib/python3.6/dist-packages (from kiwisolver>=1.0.1->matplotlib) (42.0.2)\n",
            "Requirement already satisfied: scikit-learn in /usr/local/lib/python3.6/dist-packages (0.21.3)\n",
            "Requirement already satisfied: numpy>=1.11.0 in /usr/local/lib/python3.6/dist-packages (from scikit-learn) (1.17.4)\n",
            "Requirement already satisfied: scipy>=0.17.0 in /usr/local/lib/python3.6/dist-packages (from scikit-learn) (1.3.3)\n",
            "Requirement already satisfied: joblib>=0.11 in /usr/local/lib/python3.6/dist-packages (from scikit-learn) (0.14.1)\n",
            "Collecting skimage\n",
            "  Downloading https://files.pythonhosted.org/packages/3b/ee/edbfa69ba7b7d9726e634bfbeefd04b5a1764e9e74867ec916113eeaf4a1/skimage-0.0.tar.gz\n",
            "\u001b[31mERROR: Command errored out with exit status 1: python setup.py egg_info Check the logs for full command output.\u001b[0m\n",
            "Collecting pydicom\n",
            "\u001b[?25l  Downloading https://files.pythonhosted.org/packages/fc/d5/da1fdf3b967e324ee47a7ad9553c9b94c1193b6b98afd9eeda0efb76b9f7/pydicom-1.3.0-py2.py3-none-any.whl (7.1MB)\n",
            "\u001b[K     |████████████████████████████████| 7.1MB 9.7MB/s \n",
            "\u001b[?25hInstalling collected packages: pydicom\n",
            "Successfully installed pydicom-1.3.0\n",
            "Requirement already satisfied: scipy in /usr/local/lib/python3.6/dist-packages (1.3.3)\n",
            "Requirement already satisfied: numpy>=1.13.3 in /usr/local/lib/python3.6/dist-packages (from scipy) (1.17.4)\n",
            "Collecting SimpleITK\n",
            "\u001b[?25l  Downloading https://files.pythonhosted.org/packages/f8/d8/53338c34f71020725ffb3557846c80af96c29c03bc883551a2565aa68a7c/SimpleITK-1.2.4-cp36-cp36m-manylinux1_x86_64.whl (42.5MB)\n",
            "\u001b[K     |████████████████████████████████| 42.5MB 51kB/s \n",
            "\u001b[?25hInstalling collected packages: SimpleITK\n",
            "Successfully installed SimpleITK-1.2.4\n",
            "Collecting pyradiomics\n",
            "\u001b[?25l  Downloading https://files.pythonhosted.org/packages/1d/6b/797d3fd59e16675f6d8fa3ad0f778a025e06bcb1fd595439d43aff0a522e/pyradiomics-2.2.0-cp36-cp36m-manylinux1_x86_64.whl (159kB)\n",
            "\u001b[K     |████████████████████████████████| 163kB 9.4MB/s \n",
            "\u001b[?25hRequirement already satisfied: numpy>=1.9.2 in /usr/local/lib/python3.6/dist-packages (from pyradiomics) (1.17.4)\n",
            "Requirement already satisfied: SimpleITK>=0.9.1 in /usr/local/lib/python3.6/dist-packages (from pyradiomics) (1.2.4)\n",
            "Collecting pykwalify>=1.6.0\n",
            "\u001b[?25l  Downloading https://files.pythonhosted.org/packages/36/9f/612de8ca540bd24d604f544248c4c46e9db76f6ea5eb75fb4244da6ebbf0/pykwalify-1.7.0-py2.py3-none-any.whl (40kB)\n",
            "\u001b[K     |████████████████████████████████| 40kB 5.8MB/s \n",
            "\u001b[?25hCollecting PyWavelets<=1.0.0,>=0.4.0\n",
            "\u001b[?25l  Downloading https://files.pythonhosted.org/packages/90/d0/09b2bf3368d5bba6ee1a8868ce94eebbb105fc8bf89fa43c90348b21a7cb/PyWavelets-1.0.0-cp36-cp36m-manylinux1_x86_64.whl (4.4MB)\n",
            "\u001b[K     |████████████████████████████████| 4.4MB 51.5MB/s \n",
            "\u001b[?25hRequirement already satisfied: six>=1.10.0 in /usr/local/lib/python3.6/dist-packages (from pyradiomics) (1.12.0)\n",
            "Requirement already satisfied: python-dateutil>=2.4.2 in /usr/local/lib/python3.6/dist-packages (from pykwalify>=1.6.0->pyradiomics) (2.6.1)\n",
            "Requirement already satisfied: docopt>=0.6.2 in /usr/local/lib/python3.6/dist-packages (from pykwalify>=1.6.0->pyradiomics) (0.6.2)\n",
            "Requirement already satisfied: PyYAML>=3.11 in /usr/local/lib/python3.6/dist-packages (from pykwalify>=1.6.0->pyradiomics) (3.13)\n",
            "\u001b[31mERROR: albumentations 0.1.12 has requirement imgaug<0.2.7,>=0.2.5, but you'll have imgaug 0.2.9 which is incompatible.\u001b[0m\n",
            "Installing collected packages: pykwalify, PyWavelets, pyradiomics\n",
            "  Found existing installation: PyWavelets 1.1.1\n",
            "    Uninstalling PyWavelets-1.1.1:\n",
            "      Successfully uninstalled PyWavelets-1.1.1\n",
            "Successfully installed PyWavelets-1.0.0 pykwalify-1.7.0 pyradiomics-2.2.0\n",
            "Requirement already satisfied: opencv-python in /usr/local/lib/python3.6/dist-packages (4.1.2.30)\n",
            "Requirement already satisfied: numpy>=1.11.3 in /usr/local/lib/python3.6/dist-packages (from opencv-python) (1.17.4)\n",
            "Requirement already satisfied: seaborn in /usr/local/lib/python3.6/dist-packages (0.9.0)\n",
            "Requirement already satisfied: pandas>=0.15.2 in /usr/local/lib/python3.6/dist-packages (from seaborn) (0.25.3)\n",
            "Requirement already satisfied: scipy>=0.14.0 in /usr/local/lib/python3.6/dist-packages (from seaborn) (1.3.3)\n",
            "Requirement already satisfied: matplotlib>=1.4.3 in /usr/local/lib/python3.6/dist-packages (from seaborn) (3.1.2)\n",
            "Requirement already satisfied: numpy>=1.9.3 in /usr/local/lib/python3.6/dist-packages (from seaborn) (1.17.4)\n",
            "Requirement already satisfied: python-dateutil>=2.6.1 in /usr/local/lib/python3.6/dist-packages (from pandas>=0.15.2->seaborn) (2.6.1)\n",
            "Requirement already satisfied: pytz>=2017.2 in /usr/local/lib/python3.6/dist-packages (from pandas>=0.15.2->seaborn) (2018.9)\n",
            "Requirement already satisfied: cycler>=0.10 in /usr/local/lib/python3.6/dist-packages (from matplotlib>=1.4.3->seaborn) (0.10.0)\n",
            "Requirement already satisfied: kiwisolver>=1.0.1 in /usr/local/lib/python3.6/dist-packages (from matplotlib>=1.4.3->seaborn) (1.1.0)\n",
            "Requirement already satisfied: pyparsing!=2.0.4,!=2.1.2,!=2.1.6,>=2.0.1 in /usr/local/lib/python3.6/dist-packages (from matplotlib>=1.4.3->seaborn) (2.4.5)\n",
            "Requirement already satisfied: six>=1.5 in /usr/local/lib/python3.6/dist-packages (from python-dateutil>=2.6.1->pandas>=0.15.2->seaborn) (1.12.0)\n",
            "Requirement already satisfied: setuptools in /usr/local/lib/python3.6/dist-packages (from kiwisolver>=1.0.1->matplotlib>=1.4.3->seaborn) (42.0.2)\n",
            "Requirement already satisfied: torch in /usr/local/lib/python3.6/dist-packages (1.3.1)\n",
            "Requirement already satisfied: torchvision in /usr/local/lib/python3.6/dist-packages (0.4.2)\n",
            "Requirement already satisfied: numpy in /usr/local/lib/python3.6/dist-packages (from torch) (1.17.4)\n",
            "Requirement already satisfied: pillow>=4.1.1 in /usr/local/lib/python3.6/dist-packages (from torchvision) (4.3.0)\n",
            "Requirement already satisfied: six in /usr/local/lib/python3.6/dist-packages (from torchvision) (1.12.0)\n",
            "Requirement already satisfied: olefile in /usr/local/lib/python3.6/dist-packages (from pillow>=4.1.1->torchvision) (0.46)\n",
            "Requirement already satisfied: pywavelets in /usr/local/lib/python3.6/dist-packages (1.0.0)\n",
            "Requirement already satisfied: numpy>=1.9.1 in /usr/local/lib/python3.6/dist-packages (from pywavelets) (1.17.4)\n"
          ],
          "name": "stdout"
        }
      ]
    },
    {
      "cell_type": "markdown",
      "metadata": {
        "id": "MvFjHSs3H63I",
        "colab_type": "text"
      },
      "source": [
        "Import Data"
      ]
    },
    {
      "cell_type": "code",
      "metadata": {
        "id": "26eqJPXgV42Z",
        "colab_type": "code",
        "colab": {}
      },
      "source": [
        "# Install the PyDrive wrapper & import libraries.\n",
        "# This only needs to be done once per notebook.\n",
        "!pip install -U -q PyDrive\n",
        "from pydrive.auth import GoogleAuth\n",
        "from pydrive.drive import GoogleDrive\n",
        "from google.colab import auth\n",
        "from oauth2client.client import GoogleCredentials"
      ],
      "execution_count": 0,
      "outputs": []
    },
    {
      "cell_type": "code",
      "metadata": {
        "id": "0yo7wFuyO_VV",
        "colab_type": "code",
        "colab": {}
      },
      "source": [
        "# Authenticate and create the PyDrive client.\n",
        "# This only needs to be done once per notebook.\n",
        "auth.authenticate_user()\n",
        "gauth = GoogleAuth()\n",
        "gauth.credentials = GoogleCredentials.get_application_default()\n",
        "drive = GoogleDrive(gauth)"
      ],
      "execution_count": 0,
      "outputs": []
    },
    {
      "cell_type": "code",
      "metadata": {
        "id": "KGYuUNASPB3-",
        "colab_type": "code",
        "colab": {}
      },
      "source": [
        "# Download a file based on its file ID.\n",
        "#\n",
        "# A file ID looks like: laggVyWshwcyP6kEI-y_W3P8D26sz\n",
        "train_file_id = '1qnWrhC6wYmCpMWHvw3dGtR6nx2UWTNro'\n",
        "test_file_id = '1YbDuj8VwiqQsQUG-OokdZ0RMV-E9IO3o'"
      ],
      "execution_count": 0,
      "outputs": []
    },
    {
      "cell_type": "code",
      "metadata": {
        "id": "naD5ZbPKPIhG",
        "colab_type": "code",
        "outputId": "9a064d10-664f-4346-d5a2-9b12fe4b23d0",
        "colab": {
          "base_uri": "https://localhost:8080/",
          "height": 126
        }
      },
      "source": [
        "from google.colab import drive\n",
        "drive.mount('/content/drive')"
      ],
      "execution_count": 2,
      "outputs": [
        {
          "output_type": "stream",
          "text": [
            "Go to this URL in a browser: https://accounts.google.com/o/oauth2/auth?client_id=947318989803-6bn6qk8qdgf4n4g3pfee6491hc0brc4i.apps.googleusercontent.com&redirect_uri=urn%3aietf%3awg%3aoauth%3a2.0%3aoob&response_type=code&scope=email%20https%3a%2f%2fwww.googleapis.com%2fauth%2fdocs.test%20https%3a%2f%2fwww.googleapis.com%2fauth%2fdrive%20https%3a%2f%2fwww.googleapis.com%2fauth%2fdrive.photos.readonly%20https%3a%2f%2fwww.googleapis.com%2fauth%2fpeopleapi.readonly\n",
            "\n",
            "Enter your authorization code:\n",
            "··········\n",
            "Mounted at /content/drive\n"
          ],
          "name": "stdout"
        }
      ]
    },
    {
      "cell_type": "markdown",
      "metadata": {
        "id": "vNHQn9_FtuWS",
        "colab_type": "text"
      },
      "source": [
        "CSV Extraction/Formatting"
      ]
    },
    {
      "cell_type": "code",
      "metadata": {
        "id": "fsccUjyHtxx-",
        "colab_type": "code",
        "outputId": "bc1898f6-adcf-4234-92ab-473c796e4162",
        "colab": {
          "base_uri": "https://localhost:8080/",
          "height": 195
        }
      },
      "source": [
        "import pydicom\n",
        "import numpy as np\n",
        "import matplotlib.pyplot as plt\n",
        "import sys\n",
        "import glob\n",
        "from pydicom.data import get_testdata_files\n",
        "from skimage import exposure\n",
        "import cv2\n",
        "import pandas as pd\n",
        "import os \n",
        "\n",
        "#Using Dataframes to load csv data\n",
        "training_csv = pd.read_csv('/content/drive/Shared drives/CP8318 - Project/CSV/mass_case_description_train_set.csv')\n",
        "testing_csv = pd.read_csv('/content/drive/Shared drives/CP8318 - Project/CSV/mass_case_description_test_set.csv')\n",
        "\n",
        "#Get Labels\n",
        "train_label = training_csv['pathology']\n",
        "test_label = testing_csv['pathology']\n",
        "\n",
        "new_train_label = []\n",
        "new_test_label = []\n",
        "names_train_label = []\n",
        "names_test_label = []\n",
        "\n",
        "training_img_path = training_csv['cropped image file path']\n",
        "training_label_names = []\n",
        "\n",
        "testing_img_path = testing_csv['cropped image file path']\n",
        "testing_label_names = []\n",
        "\n",
        "for i in range(len(train_label)):\n",
        "  training_label_name = training_img_path[i]\n",
        "  training_label_name = training_label_name.split('/', 1)\n",
        "  training_label_name = training_label_name[0]+\".dcm\"\n",
        "  training_label_names.append(training_label_name)\n",
        "\n",
        "for i in range(len(test_label)):\n",
        "  testing_label_name = testing_img_path[i]\n",
        "  testing_label_name = testing_label_name.split('/', 1)\n",
        "  testing_label_name = testing_label_name[0]+\".dcm\"\n",
        "  testing_label_names.append(testing_label_name)\n",
        "  \n",
        "for i in range(len(train_label)):\n",
        "  if train_label[i] == \"MALIGNANT\":\n",
        "    new_train_label.append(0)\n",
        "  elif train_label[i] == \"BENIGN\":\n",
        "    new_train_label.append(1)\n",
        "  else:\n",
        "    new_train_label.append(1)\n",
        "\n",
        "for i in range(len(test_label)):\n",
        "  if test_label[i] == \"MALIGNANT\":\n",
        "    new_test_label.append(0)\n",
        "  elif test_label[i] == \"BENIGN\":\n",
        "    new_test_label.append(1)\n",
        "  else:\n",
        "    new_test_label.append(1)\n",
        "\n",
        "#Get Clinical Features\n",
        "mass_shape_train_csv = training_csv['mass shape']\n",
        "mass_shape_test_csv = testing_csv['mass shape']\n",
        "\n",
        "mass_shape_train = []\n",
        "mass_shape_test = []\n",
        "\n",
        "for i in range(len(mass_shape_train_csv)):\n",
        "  if mass_shape_train_csv[i] == \"IRREGULAR-ARCHITECTURAL_DISTORTION\":\n",
        "    mass_shape_train.append(0)\n",
        "  elif mass_shape_train_csv[i] == \"ARCHITECTURAL_DISTORTION\":\n",
        "    mass_shape_train.append(1)\n",
        "  elif mass_shape_train_csv[i] == \"OVAL\":\n",
        "    mass_shape_train.append(2)\n",
        "  elif mass_shape_train_csv[i] == \"IRREGULAR\":\n",
        "    mass_shape_train.append(3)\n",
        "  elif mass_shape_train_csv[i] == \"LYMPH_NODE\":\n",
        "    mass_shape_train.append(4)\n",
        "  elif mass_shape_train_csv[i] == \"LOBULATED-LYMPH_NODE\":\n",
        "    mass_shape_train.append(5)\n",
        "  elif mass_shape_train_csv[i] == \"LOBULATED\":\n",
        "    mass_shape_train.append(6)\n",
        "  elif mass_shape_train_csv[i] == \"FOCAL_ASYMMETRIC_DENSITY\":\n",
        "    mass_shape_train.append(7)\n",
        "  elif mass_shape_train_csv[i] == \"ROUND\":\n",
        "    mass_shape_train.append(8)\n",
        "  elif mass_shape_train_csv[i] == \"LOBULATED-ARCHITECTURAL_DISTORTION\":\n",
        "    mass_shape_train.append(9)\n",
        "  elif mass_shape_train_csv[i] == \"ASYMMETRIC_BREAST_TISSUE\":\n",
        "    mass_shape_train.append(10)\n",
        "  elif mass_shape_train_csv[i] == \"LOBULATED-IRREGULAR\":\n",
        "    mass_shape_train.append(11)\n",
        "  elif mass_shape_train_csv[i] == \"N/A\":\n",
        "    mass_shape_train.append(12)\n",
        "  elif mass_shape_train_csv[i] == \"OVAL-LYMPH_NODE\":\n",
        "    mass_shape_train.append(13)\n",
        "  elif mass_shape_train_csv[i] == \"LOBULATED-OVAL\":\n",
        "    mass_shape_train.append(14)\n",
        "  elif mass_shape_train_csv[i] == \"ROUND-OVAL\":\n",
        "    mass_shape_train.append(15)\n",
        "  elif mass_shape_train_csv[i] == \"IRREGULAR-FOCAL_ASYMMETRIC_DENSITY\":\n",
        "    mass_shape_train.append(16)\n",
        "  elif mass_shape_train_csv[i] == \"ROUND-IRREGULAR-ARCHITECTURAL_DISTORTION\":\n",
        "    mass_shape_train.append(17)\n",
        "  elif mass_shape_train_csv[i] == \"ROUND-LOBULATED\":\n",
        "    mass_shape_train.append(18)\n",
        "  else: \n",
        "    mass_shape_train.append(19)\n",
        "\n",
        "for i in range(len(mass_shape_test_csv)):\n",
        "  if mass_shape_test_csv[i] == \"IRREGULAR-ARCHITECTURAL_DISTORTION\":\n",
        "    mass_shape_test.append(0)\n",
        "  elif mass_shape_test_csv[i] == \"ARCHITECTURAL_DISTORTION\":\n",
        "    mass_shape_test.append(1)\n",
        "  elif mass_shape_test_csv[i] == \"OVAL\":\n",
        "    mass_shape_test.append(2)\n",
        "  elif mass_shape_test_csv[i] == \"IRREGULAR\":\n",
        "    mass_shape_test.append(3)\n",
        "  elif mass_shape_test_csv[i] == \"LYMPH_NODE\":\n",
        "    mass_shape_test.append(4)\n",
        "  elif mass_shape_test_csv[i] == \"LOBULATED-LYMPH_NODE\":\n",
        "    mass_shape_test.append(5)\n",
        "  elif mass_shape_test_csv[i] == \"LOBULATED\":\n",
        "    mass_shape_test.append(6)\n",
        "  elif mass_shape_test_csv[i] == \"FOCAL_ASYMMETRIC_DENSITY\":\n",
        "    mass_shape_test.append(7)\n",
        "  elif mass_shape_test_csv[i] == \"ROUND\":\n",
        "    mass_shape_test.append(8)\n",
        "  elif mass_shape_test_csv[i] == \"LOBULATED-ARCHITECTURAL_DISTORTION\":\n",
        "    mass_shape_test.append(9)\n",
        "  elif mass_shape_test_csv[i] == \"ASYMMETRIC_BREAST_TISSUE\":\n",
        "    mass_shape_test.append(10)\n",
        "  elif mass_shape_test_csv[i] == \"LOBULATED-IRREGULAR\":\n",
        "    mass_shape_test.append(11)\n",
        "  elif mass_shape_test_csv[i] == \"N/A\":\n",
        "    mass_shape_test.append(12)\n",
        "  elif mass_shape_test_csv[i] == \"OVAL-LYMPH_NODE\":\n",
        "    mass_shape_test.append(13)\n",
        "  elif mass_shape_test_csv[i] == \"OVAL-LOBULATED\":\n",
        "    mass_shape_test.append(14)\n",
        "  elif mass_shape_test_csv[i] == \"ROUND-OVAL\":\n",
        "    mass_shape_test.append(15)\n",
        "  elif mass_shape_test_csv[i] == \"IRREGULAR-FOCAL_ASYMMETRIC_DENSITY\":\n",
        "    mass_shape_test.append(16)\n",
        "  elif mass_shape_test_csv[i] == \"ROUND-IRREGULAR-ARCHITECTURAL_DISTORTION\":\n",
        "    mass_shape_test.append(17)\n",
        "  elif mass_shape_test_csv[i] == \"ROUND-LOBULATED\":\n",
        "    mass_shape_test.append(18)\n",
        "  else:\n",
        "    mass_shape_test.append(19)\n",
        "#get density feature\n",
        "density_train_csv = np.array(training_csv['breast_density'])\n",
        "density_test_csv = np.array(testing_csv['breast_density'])\n",
        "\n",
        "# mass_shape_train = []\n",
        "# mass_shape_test = []\n",
        "# Check lengths of variables\n",
        "print(\"Check lengths of labels:\")\n",
        "print(\"Original: \", len(train_label))\n",
        "print(\"Numeric: \", len(new_train_label))\n",
        "print(\"Original: \", len(test_label))\n",
        "print(\"Numeric: \", len(new_test_label))\n",
        "\n",
        "\n",
        "print(\"Check lengths of shape features:\")\n",
        "print(\"Original: \", len(mass_shape_train_csv))\n",
        "print(\"Numeric: \", len(mass_shape_train))\n",
        "\n",
        "print(\"Original: \", len(mass_shape_test_csv))\n",
        "print(\"Numeric: \", len(mass_shape_test))\n",
        "\n",
        "# new_train_label = np.array(new_train_label)\n",
        "# new_test_label = np.array(new_test_label)\n",
        "# print(len(np.where(new_train_label==0)[0]))\n",
        "# print(len(np.where(new_train_label==1)[0]))\n",
        "# print(len(np.where(new_test_label==0)[0]))\n",
        "# print(len(np.where(new_test_label==1)[0]))"
      ],
      "execution_count": 321,
      "outputs": [
        {
          "output_type": "stream",
          "text": [
            "Check lengths of labels:\n",
            "Original:  1318\n",
            "Numeric:  1318\n",
            "Original:  378\n",
            "Numeric:  378\n",
            "Check lengths of shape features:\n",
            "Original:  1318\n",
            "Numeric:  1318\n",
            "Original:  378\n",
            "Numeric:  378\n"
          ],
          "name": "stdout"
        }
      ]
    },
    {
      "cell_type": "code",
      "metadata": {
        "id": "v77Wpc39U37T",
        "colab_type": "code",
        "outputId": "0a478270-6a96-4321-c131-26a8bef02489",
        "colab": {
          "base_uri": "https://localhost:8080/",
          "height": 200
        }
      },
      "source": [
        "# Mass Shape Dataframe Training\n",
        "training_label_names_df = pd.DataFrame(list(zip(training_label_names, new_train_label, mass_shape_train,density_train_csv)),columns =['FileName','True_Train_Label','Mass_shape_train', 'Breast_density_train'])\n",
        "training_label_names_df.head()"
      ],
      "execution_count": 322,
      "outputs": [
        {
          "output_type": "execute_result",
          "data": {
            "text/html": [
              "<div>\n",
              "<style scoped>\n",
              "    .dataframe tbody tr th:only-of-type {\n",
              "        vertical-align: middle;\n",
              "    }\n",
              "\n",
              "    .dataframe tbody tr th {\n",
              "        vertical-align: top;\n",
              "    }\n",
              "\n",
              "    .dataframe thead th {\n",
              "        text-align: right;\n",
              "    }\n",
              "</style>\n",
              "<table border=\"1\" class=\"dataframe\">\n",
              "  <thead>\n",
              "    <tr style=\"text-align: right;\">\n",
              "      <th></th>\n",
              "      <th>FileName</th>\n",
              "      <th>True_Train_Label</th>\n",
              "      <th>Mass_shape_train</th>\n",
              "      <th>Breast_density_train</th>\n",
              "    </tr>\n",
              "  </thead>\n",
              "  <tbody>\n",
              "    <tr>\n",
              "      <th>0</th>\n",
              "      <td>Mass-Training_P_00001_LEFT_CC_1.dcm</td>\n",
              "      <td>0</td>\n",
              "      <td>0</td>\n",
              "      <td>3</td>\n",
              "    </tr>\n",
              "    <tr>\n",
              "      <th>1</th>\n",
              "      <td>Mass-Training_P_00001_LEFT_MLO_1.dcm</td>\n",
              "      <td>0</td>\n",
              "      <td>0</td>\n",
              "      <td>3</td>\n",
              "    </tr>\n",
              "    <tr>\n",
              "      <th>2</th>\n",
              "      <td>Mass-Training_P_00004_LEFT_CC_1.dcm</td>\n",
              "      <td>1</td>\n",
              "      <td>1</td>\n",
              "      <td>3</td>\n",
              "    </tr>\n",
              "    <tr>\n",
              "      <th>3</th>\n",
              "      <td>Mass-Training_P_00004_LEFT_MLO_1.dcm</td>\n",
              "      <td>1</td>\n",
              "      <td>1</td>\n",
              "      <td>3</td>\n",
              "    </tr>\n",
              "    <tr>\n",
              "      <th>4</th>\n",
              "      <td>Mass-Training_P_00004_RIGHT_MLO_1.dcm</td>\n",
              "      <td>1</td>\n",
              "      <td>2</td>\n",
              "      <td>3</td>\n",
              "    </tr>\n",
              "  </tbody>\n",
              "</table>\n",
              "</div>"
            ],
            "text/plain": [
              "                                FileName  ...  Breast_density_train\n",
              "0    Mass-Training_P_00001_LEFT_CC_1.dcm  ...                     3\n",
              "1   Mass-Training_P_00001_LEFT_MLO_1.dcm  ...                     3\n",
              "2    Mass-Training_P_00004_LEFT_CC_1.dcm  ...                     3\n",
              "3   Mass-Training_P_00004_LEFT_MLO_1.dcm  ...                     3\n",
              "4  Mass-Training_P_00004_RIGHT_MLO_1.dcm  ...                     3\n",
              "\n",
              "[5 rows x 4 columns]"
            ]
          },
          "metadata": {
            "tags": []
          },
          "execution_count": 322
        }
      ]
    },
    {
      "cell_type": "code",
      "metadata": {
        "id": "yGvYhJAJVt6x",
        "colab_type": "code",
        "outputId": "b43d860b-997b-4b47-a7c2-1f3cc126c7fc",
        "colab": {
          "base_uri": "https://localhost:8080/",
          "height": 200
        }
      },
      "source": [
        "# Mass Shape Dataframe Testing\n",
        "testing_label_names_df = pd.DataFrame(list(zip(testing_label_names,new_test_label, mass_shape_test, density_test_csv)),columns =['FileName','True_Test_Label','Mass_shape_test', 'Breast_density_test'])\n",
        "testing_label_names_df.head()"
      ],
      "execution_count": 323,
      "outputs": [
        {
          "output_type": "execute_result",
          "data": {
            "text/html": [
              "<div>\n",
              "<style scoped>\n",
              "    .dataframe tbody tr th:only-of-type {\n",
              "        vertical-align: middle;\n",
              "    }\n",
              "\n",
              "    .dataframe tbody tr th {\n",
              "        vertical-align: top;\n",
              "    }\n",
              "\n",
              "    .dataframe thead th {\n",
              "        text-align: right;\n",
              "    }\n",
              "</style>\n",
              "<table border=\"1\" class=\"dataframe\">\n",
              "  <thead>\n",
              "    <tr style=\"text-align: right;\">\n",
              "      <th></th>\n",
              "      <th>FileName</th>\n",
              "      <th>True_Test_Label</th>\n",
              "      <th>Mass_shape_test</th>\n",
              "      <th>Breast_density_test</th>\n",
              "    </tr>\n",
              "  </thead>\n",
              "  <tbody>\n",
              "    <tr>\n",
              "      <th>0</th>\n",
              "      <td>Mass-Test_P_00016_LEFT_CC_1.dcm</td>\n",
              "      <td>0</td>\n",
              "      <td>3</td>\n",
              "      <td>4</td>\n",
              "    </tr>\n",
              "    <tr>\n",
              "      <th>1</th>\n",
              "      <td>Mass-Test_P_00016_LEFT_MLO_1.dcm</td>\n",
              "      <td>0</td>\n",
              "      <td>3</td>\n",
              "      <td>4</td>\n",
              "    </tr>\n",
              "    <tr>\n",
              "      <th>2</th>\n",
              "      <td>Mass-Test_P_00017_LEFT_CC_1.dcm</td>\n",
              "      <td>0</td>\n",
              "      <td>8</td>\n",
              "      <td>2</td>\n",
              "    </tr>\n",
              "    <tr>\n",
              "      <th>3</th>\n",
              "      <td>Mass-Test_P_00017_LEFT_MLO_1.dcm</td>\n",
              "      <td>0</td>\n",
              "      <td>8</td>\n",
              "      <td>2</td>\n",
              "    </tr>\n",
              "    <tr>\n",
              "      <th>4</th>\n",
              "      <td>Mass-Test_P_00032_RIGHT_CC_1.dcm</td>\n",
              "      <td>1</td>\n",
              "      <td>8</td>\n",
              "      <td>3</td>\n",
              "    </tr>\n",
              "  </tbody>\n",
              "</table>\n",
              "</div>"
            ],
            "text/plain": [
              "                           FileName  ...  Breast_density_test\n",
              "0   Mass-Test_P_00016_LEFT_CC_1.dcm  ...                    4\n",
              "1  Mass-Test_P_00016_LEFT_MLO_1.dcm  ...                    4\n",
              "2   Mass-Test_P_00017_LEFT_CC_1.dcm  ...                    2\n",
              "3  Mass-Test_P_00017_LEFT_MLO_1.dcm  ...                    2\n",
              "4  Mass-Test_P_00032_RIGHT_CC_1.dcm  ...                    3\n",
              "\n",
              "[5 rows x 4 columns]"
            ]
          },
          "metadata": {
            "tags": []
          },
          "execution_count": 323
        }
      ]
    },
    {
      "cell_type": "markdown",
      "metadata": {
        "id": "SqnCzHpcVCN7",
        "colab_type": "text"
      },
      "source": [
        "Main File"
      ]
    },
    {
      "cell_type": "code",
      "metadata": {
        "id": "OClT9s2wvvxv",
        "colab_type": "code",
        "colab": {}
      },
      "source": [
        "# Feature Extraction CSV\n",
        "import pydicom\n",
        "import numpy as np\n",
        "import matplotlib.pyplot as plt\n",
        "import sys\n",
        "import glob\n",
        "from pydicom.data import get_testdata_files\n",
        "from skimage import exposure\n",
        "import cv2\n",
        "import pandas as pd\n",
        "import os \n",
        "\n",
        "#Using Dataframes to load csv data.\n",
        "\n",
        "#Haar\n",
        "haar_training_features_csv = pd.read_csv('/content/drive/Shared drives/CP8318 - Project/CSV/haar_train_set.csv')\n",
        "haar_testing_features_csv = pd.read_csv('/content/drive/Shared drives/CP8318 - Project/CSV/haar_test_set.csv')\n",
        "\n",
        "#Biorthogonal 1.3\n",
        "bio_training_features_csv = pd.read_csv('/content/drive/Shared drives/CP8318 - Project/CSV/bio13_train_set.csv')\n",
        "bio_testing_features_csv = pd.read_csv('/content/drive/Shared drives/CP8318 - Project/CSV/bio13_test_set.csv')\n",
        "\n",
        "#Gabor\n",
        "gab_training_features_csv = pd.read_csv('/content/drive/Shared drives/CP8318 - Project/CSV/gaborFeatures_train_set.csv')\n",
        "gab_testing_features_csv = pd.read_csv('/content/drive/Shared drives/CP8318 - Project/CSV/gaborFeatures_test_set.csv')\n",
        "\n"
      ],
      "execution_count": 0,
      "outputs": []
    },
    {
      "cell_type": "markdown",
      "metadata": {
        "id": "NT-obHSs4ePh",
        "colab_type": "text"
      },
      "source": [
        "Haar Wavelet CSVs"
      ]
    },
    {
      "cell_type": "code",
      "metadata": {
        "id": "BYYU1WbDw6sh",
        "colab_type": "code",
        "outputId": "facc59d6-71c5-4046-878b-91a50d84abb9",
        "colab": {
          "base_uri": "https://localhost:8080/",
          "height": 220
        }
      },
      "source": [
        "# Train Dataframe\n",
        "empty = np.full(len(haar_training_features_csv), np.nan)\n",
        "\n",
        "\n",
        "haar_training_features_csv.insert(1, \"Train_Label\", empty, True) \n",
        "haar_training_features_csv.insert(17, \"Mass_shape_train\", empty, True) \n",
        "haar_training_features_csv.insert(18, \"Breast_density_train\", empty, True)\n",
        "\n",
        "# Comparing Label name to feature name\n",
        "\n",
        "haar_training_features_csv['Breast_density_train']=haar_training_features_csv[['FileName']].merge(training_label_names_df,how='left').Breast_density_train\n",
        "haar_training_features_csv['Mass_shape_train']=haar_training_features_csv[['FileName']].merge(training_label_names_df,how='left').Mass_shape_train\n",
        "haar_training_features_csv['Train_Label']=haar_training_features_csv[['FileName']].merge(training_label_names_df,how='left').True_Train_Label\n",
        "\n",
        "x_train = haar_training_features_csv.iloc[:,2:19]\n",
        "y_train = haar_training_features_csv[\"Train_Label\"]\n",
        "\n",
        "# Train Set\n",
        "x_train.head()\n"
      ],
      "execution_count": 345,
      "outputs": [
        {
          "output_type": "execute_result",
          "data": {
            "text/html": [
              "<div>\n",
              "<style scoped>\n",
              "    .dataframe tbody tr th:only-of-type {\n",
              "        vertical-align: middle;\n",
              "    }\n",
              "\n",
              "    .dataframe tbody tr th {\n",
              "        vertical-align: top;\n",
              "    }\n",
              "\n",
              "    .dataframe thead th {\n",
              "        text-align: right;\n",
              "    }\n",
              "</style>\n",
              "<table border=\"1\" class=\"dataframe\">\n",
              "  <thead>\n",
              "    <tr style=\"text-align: right;\">\n",
              "      <th></th>\n",
              "      <th>cH_Contrast</th>\n",
              "      <th>cH_Correlation</th>\n",
              "      <th>cH_Energy</th>\n",
              "      <th>cH_Entropy</th>\n",
              "      <th>cH_Homogeneity</th>\n",
              "      <th>cV_Contrast</th>\n",
              "      <th>cV_Correlation</th>\n",
              "      <th>cV_Energy</th>\n",
              "      <th>cV_Entropy</th>\n",
              "      <th>cV_Homogeneity</th>\n",
              "      <th>cD_Contrast</th>\n",
              "      <th>cD_Correlation</th>\n",
              "      <th>cD_Energy</th>\n",
              "      <th>cD_Entropy</th>\n",
              "      <th>cD_Homogeneity</th>\n",
              "      <th>Mass_shape_train</th>\n",
              "      <th>Breast_density_train</th>\n",
              "    </tr>\n",
              "  </thead>\n",
              "  <tbody>\n",
              "    <tr>\n",
              "      <th>0</th>\n",
              "      <td>1.086964</td>\n",
              "      <td>0.012462</td>\n",
              "      <td>0.150082</td>\n",
              "      <td>3.204612</td>\n",
              "      <td>0.674429</td>\n",
              "      <td>1.169989</td>\n",
              "      <td>0.002655</td>\n",
              "      <td>0.148205</td>\n",
              "      <td>3.299867</td>\n",
              "      <td>0.671948</td>\n",
              "      <td>1.737218</td>\n",
              "      <td>-0.070312</td>\n",
              "      <td>0.105872</td>\n",
              "      <td>3.766030</td>\n",
              "      <td>0.617455</td>\n",
              "      <td>0</td>\n",
              "      <td>3</td>\n",
              "    </tr>\n",
              "    <tr>\n",
              "      <th>1</th>\n",
              "      <td>1.629145</td>\n",
              "      <td>0.023701</td>\n",
              "      <td>0.109776</td>\n",
              "      <td>3.791719</td>\n",
              "      <td>0.634595</td>\n",
              "      <td>1.590333</td>\n",
              "      <td>-0.002201</td>\n",
              "      <td>0.117231</td>\n",
              "      <td>3.709536</td>\n",
              "      <td>0.638788</td>\n",
              "      <td>2.004078</td>\n",
              "      <td>-0.080293</td>\n",
              "      <td>0.087863</td>\n",
              "      <td>3.951633</td>\n",
              "      <td>0.595102</td>\n",
              "      <td>0</td>\n",
              "      <td>3</td>\n",
              "    </tr>\n",
              "    <tr>\n",
              "      <th>2</th>\n",
              "      <td>1.087852</td>\n",
              "      <td>0.073111</td>\n",
              "      <td>0.163627</td>\n",
              "      <td>3.248945</td>\n",
              "      <td>0.697220</td>\n",
              "      <td>0.752179</td>\n",
              "      <td>0.155506</td>\n",
              "      <td>0.186249</td>\n",
              "      <td>2.880680</td>\n",
              "      <td>0.727455</td>\n",
              "      <td>1.463786</td>\n",
              "      <td>-0.065944</td>\n",
              "      <td>0.144459</td>\n",
              "      <td>3.463020</td>\n",
              "      <td>0.657724</td>\n",
              "      <td>1</td>\n",
              "      <td>3</td>\n",
              "    </tr>\n",
              "    <tr>\n",
              "      <th>3</th>\n",
              "      <td>0.989631</td>\n",
              "      <td>0.084611</td>\n",
              "      <td>0.204401</td>\n",
              "      <td>3.079978</td>\n",
              "      <td>0.727492</td>\n",
              "      <td>0.396077</td>\n",
              "      <td>0.112934</td>\n",
              "      <td>0.412951</td>\n",
              "      <td>1.930959</td>\n",
              "      <td>0.832687</td>\n",
              "      <td>1.259232</td>\n",
              "      <td>-0.066343</td>\n",
              "      <td>0.154500</td>\n",
              "      <td>3.280499</td>\n",
              "      <td>0.672789</td>\n",
              "      <td>1</td>\n",
              "      <td>3</td>\n",
              "    </tr>\n",
              "    <tr>\n",
              "      <th>4</th>\n",
              "      <td>1.023968</td>\n",
              "      <td>0.118231</td>\n",
              "      <td>0.172295</td>\n",
              "      <td>3.186158</td>\n",
              "      <td>0.705474</td>\n",
              "      <td>1.007693</td>\n",
              "      <td>0.139984</td>\n",
              "      <td>0.156649</td>\n",
              "      <td>3.257612</td>\n",
              "      <td>0.698164</td>\n",
              "      <td>1.197902</td>\n",
              "      <td>-0.045242</td>\n",
              "      <td>0.183544</td>\n",
              "      <td>3.152051</td>\n",
              "      <td>0.689856</td>\n",
              "      <td>2</td>\n",
              "      <td>3</td>\n",
              "    </tr>\n",
              "  </tbody>\n",
              "</table>\n",
              "</div>"
            ],
            "text/plain": [
              "   cH_Contrast  cH_Correlation  ...  Mass_shape_train  Breast_density_train\n",
              "0     1.086964        0.012462  ...                 0                     3\n",
              "1     1.629145        0.023701  ...                 0                     3\n",
              "2     1.087852        0.073111  ...                 1                     3\n",
              "3     0.989631        0.084611  ...                 1                     3\n",
              "4     1.023968        0.118231  ...                 2                     3\n",
              "\n",
              "[5 rows x 17 columns]"
            ]
          },
          "metadata": {
            "tags": []
          },
          "execution_count": 345
        }
      ]
    },
    {
      "cell_type": "code",
      "metadata": {
        "id": "b8LNIx6h3MOU",
        "colab_type": "code",
        "outputId": "a116e079-d049-4c16-8ed4-0f97584aa7d5",
        "colab": {
          "base_uri": "https://localhost:8080/",
          "height": 220
        }
      },
      "source": [
        "# Test Dataframe\n",
        "empty = np.full(len(haar_testing_features_csv), np.nan)\n",
        "\n",
        "\n",
        "haar_testing_features_csv.insert(1, \"Test_Label\", empty, True) \n",
        "haar_testing_features_csv.insert(17, \"Mass_shape_test\", empty, True) \n",
        "haar_testing_features_csv.insert(18, \"Breast_density_test\", empty, True) \n",
        "\n",
        "# Comparing Label name to feature name\n",
        "\n",
        "haar_testing_features_csv['Mass_shape_test']=haar_testing_features_csv[['FileName']].merge(testing_label_names_df,how='left').Mass_shape_test\n",
        "haar_testing_features_csv['Test_Label']=haar_testing_features_csv[['FileName']].merge(testing_label_names_df,how='left').True_Test_Label\n",
        "haar_testing_features_csv['Breast_density_test']=haar_testing_features_csv[['FileName']].merge(testing_label_names_df,how='left').Breast_density_test\n",
        "\n",
        "x_test = haar_testing_features_csv.iloc[:,2:19]\n",
        "y_test = haar_testing_features_csv[\"Test_Label\"]\n",
        "\n",
        "# Test Set\n",
        "x_test.head()"
      ],
      "execution_count": 346,
      "outputs": [
        {
          "output_type": "execute_result",
          "data": {
            "text/html": [
              "<div>\n",
              "<style scoped>\n",
              "    .dataframe tbody tr th:only-of-type {\n",
              "        vertical-align: middle;\n",
              "    }\n",
              "\n",
              "    .dataframe tbody tr th {\n",
              "        vertical-align: top;\n",
              "    }\n",
              "\n",
              "    .dataframe thead th {\n",
              "        text-align: right;\n",
              "    }\n",
              "</style>\n",
              "<table border=\"1\" class=\"dataframe\">\n",
              "  <thead>\n",
              "    <tr style=\"text-align: right;\">\n",
              "      <th></th>\n",
              "      <th>cH_Contrast</th>\n",
              "      <th>cH_Correlation</th>\n",
              "      <th>cH_Energy</th>\n",
              "      <th>cH_Entropy</th>\n",
              "      <th>cH_Homogeneity</th>\n",
              "      <th>cV_Contrast</th>\n",
              "      <th>cV_Correlation</th>\n",
              "      <th>cV_Energy</th>\n",
              "      <th>cV_Entropy</th>\n",
              "      <th>cV_Homogeneity</th>\n",
              "      <th>cD_Contrast</th>\n",
              "      <th>cD_Correlation</th>\n",
              "      <th>cD_Energy</th>\n",
              "      <th>cD_Entropy</th>\n",
              "      <th>cD_Homogeneity</th>\n",
              "      <th>Mass_shape_test</th>\n",
              "      <th>Breast_density_test</th>\n",
              "    </tr>\n",
              "  </thead>\n",
              "  <tbody>\n",
              "    <tr>\n",
              "      <th>0</th>\n",
              "      <td>1.020555</td>\n",
              "      <td>0.128728</td>\n",
              "      <td>0.148765</td>\n",
              "      <td>3.262567</td>\n",
              "      <td>0.694553</td>\n",
              "      <td>0.652938</td>\n",
              "      <td>0.144429</td>\n",
              "      <td>0.223711</td>\n",
              "      <td>2.624621</td>\n",
              "      <td>0.749517</td>\n",
              "      <td>2.043646</td>\n",
              "      <td>-0.040337</td>\n",
              "      <td>0.091998</td>\n",
              "      <td>3.970347</td>\n",
              "      <td>0.601537</td>\n",
              "      <td>3</td>\n",
              "      <td>4</td>\n",
              "    </tr>\n",
              "    <tr>\n",
              "      <th>1</th>\n",
              "      <td>0.632519</td>\n",
              "      <td>0.107529</td>\n",
              "      <td>0.224010</td>\n",
              "      <td>2.536951</td>\n",
              "      <td>0.745882</td>\n",
              "      <td>1.058970</td>\n",
              "      <td>0.132243</td>\n",
              "      <td>0.147777</td>\n",
              "      <td>3.312531</td>\n",
              "      <td>0.689074</td>\n",
              "      <td>1.478971</td>\n",
              "      <td>-0.043858</td>\n",
              "      <td>0.132133</td>\n",
              "      <td>3.540128</td>\n",
              "      <td>0.651649</td>\n",
              "      <td>3</td>\n",
              "      <td>4</td>\n",
              "    </tr>\n",
              "    <tr>\n",
              "      <th>2</th>\n",
              "      <td>1.668790</td>\n",
              "      <td>0.000383</td>\n",
              "      <td>0.114048</td>\n",
              "      <td>3.761521</td>\n",
              "      <td>0.634484</td>\n",
              "      <td>1.765421</td>\n",
              "      <td>-0.002600</td>\n",
              "      <td>0.119913</td>\n",
              "      <td>3.789847</td>\n",
              "      <td>0.638897</td>\n",
              "      <td>1.279940</td>\n",
              "      <td>-0.063180</td>\n",
              "      <td>0.147924</td>\n",
              "      <td>3.303997</td>\n",
              "      <td>0.661285</td>\n",
              "      <td>8</td>\n",
              "      <td>2</td>\n",
              "    </tr>\n",
              "    <tr>\n",
              "      <th>3</th>\n",
              "      <td>1.608801</td>\n",
              "      <td>0.004700</td>\n",
              "      <td>0.115304</td>\n",
              "      <td>3.724995</td>\n",
              "      <td>0.639514</td>\n",
              "      <td>1.262291</td>\n",
              "      <td>-0.012013</td>\n",
              "      <td>0.142964</td>\n",
              "      <td>3.363214</td>\n",
              "      <td>0.665463</td>\n",
              "      <td>0.817714</td>\n",
              "      <td>-0.060748</td>\n",
              "      <td>0.263950</td>\n",
              "      <td>2.649186</td>\n",
              "      <td>0.748019</td>\n",
              "      <td>8</td>\n",
              "      <td>2</td>\n",
              "    </tr>\n",
              "    <tr>\n",
              "      <th>4</th>\n",
              "      <td>1.135541</td>\n",
              "      <td>0.053981</td>\n",
              "      <td>0.158911</td>\n",
              "      <td>3.259559</td>\n",
              "      <td>0.688915</td>\n",
              "      <td>1.606427</td>\n",
              "      <td>0.076689</td>\n",
              "      <td>0.128295</td>\n",
              "      <td>3.748902</td>\n",
              "      <td>0.658165</td>\n",
              "      <td>1.171140</td>\n",
              "      <td>-0.048840</td>\n",
              "      <td>0.191403</td>\n",
              "      <td>3.090855</td>\n",
              "      <td>0.695815</td>\n",
              "      <td>8</td>\n",
              "      <td>3</td>\n",
              "    </tr>\n",
              "  </tbody>\n",
              "</table>\n",
              "</div>"
            ],
            "text/plain": [
              "   cH_Contrast  cH_Correlation  ...  Mass_shape_test  Breast_density_test\n",
              "0     1.020555        0.128728  ...                3                    4\n",
              "1     0.632519        0.107529  ...                3                    4\n",
              "2     1.668790        0.000383  ...                8                    2\n",
              "3     1.608801        0.004700  ...                8                    2\n",
              "4     1.135541        0.053981  ...                8                    3\n",
              "\n",
              "[5 rows x 17 columns]"
            ]
          },
          "metadata": {
            "tags": []
          },
          "execution_count": 346
        }
      ]
    },
    {
      "cell_type": "markdown",
      "metadata": {
        "id": "aSAf4X4a4i_y",
        "colab_type": "text"
      },
      "source": [
        "BIO1.3 Wavelet CSV"
      ]
    },
    {
      "cell_type": "code",
      "metadata": {
        "id": "rW-y0yvS4qPl",
        "colab_type": "code",
        "colab": {
          "base_uri": "https://localhost:8080/",
          "height": 220
        },
        "outputId": "dfe67618-90a5-42ec-cebe-637384059a0d"
      },
      "source": [
        "# Train Dataframe\n",
        "empty = np.full(len(bio_training_features_csv), np.nan)\n",
        "\n",
        "\n",
        "bio_training_features_csv.insert(1, \"Train_Label\", empty, True) \n",
        "bio_training_features_csv.insert(17, \"Mass_shape_train\", empty, True) \n",
        "bio_training_features_csv.insert(18, \"Breast_density_train\", empty, True)\n",
        "\n",
        "# Comparing Label name to feature name\n",
        "\n",
        "bio_training_features_csv['Breast_density_train']=bio_training_features_csv[['FileName']].merge(training_label_names_df,how='left').Breast_density_train\n",
        "bio_training_features_csv['Mass_shape_train']=bio_training_features_csv[['FileName']].merge(training_label_names_df,how='left').Mass_shape_train\n",
        "bio_training_features_csv['Train_Label']=bio_training_features_csv[['FileName']].merge(training_label_names_df,how='left').True_Train_Label\n",
        "\n",
        "x_train = bio_training_features_csv.iloc[:,2:19]\n",
        "y_train = bio_training_features_csv[\"Train_Label\"]\n",
        "\n",
        "# Train Set\n",
        "x_train.head()\n"
      ],
      "execution_count": 333,
      "outputs": [
        {
          "output_type": "execute_result",
          "data": {
            "text/html": [
              "<div>\n",
              "<style scoped>\n",
              "    .dataframe tbody tr th:only-of-type {\n",
              "        vertical-align: middle;\n",
              "    }\n",
              "\n",
              "    .dataframe tbody tr th {\n",
              "        vertical-align: top;\n",
              "    }\n",
              "\n",
              "    .dataframe thead th {\n",
              "        text-align: right;\n",
              "    }\n",
              "</style>\n",
              "<table border=\"1\" class=\"dataframe\">\n",
              "  <thead>\n",
              "    <tr style=\"text-align: right;\">\n",
              "      <th></th>\n",
              "      <th>cH_Contrast</th>\n",
              "      <th>cH_Correlation</th>\n",
              "      <th>cH_Energy</th>\n",
              "      <th>cH_Entropy</th>\n",
              "      <th>cH_Homogeneity</th>\n",
              "      <th>cV_Contrast</th>\n",
              "      <th>cV_Correlation</th>\n",
              "      <th>cV_Energy</th>\n",
              "      <th>cV_Entropy</th>\n",
              "      <th>cV_Homogeneity</th>\n",
              "      <th>cD_Contrast</th>\n",
              "      <th>cD_Correlation</th>\n",
              "      <th>cD_Energy</th>\n",
              "      <th>cD_Entropy</th>\n",
              "      <th>cD_Homogeneity</th>\n",
              "      <th>Mass_shape_train</th>\n",
              "      <th>Breast_density_train</th>\n",
              "    </tr>\n",
              "  </thead>\n",
              "  <tbody>\n",
              "    <tr>\n",
              "      <th>0</th>\n",
              "      <td>1.173531</td>\n",
              "      <td>0.006151</td>\n",
              "      <td>0.140102</td>\n",
              "      <td>3.311430</td>\n",
              "      <td>0.664340</td>\n",
              "      <td>1.180578</td>\n",
              "      <td>-0.002088</td>\n",
              "      <td>0.148212</td>\n",
              "      <td>3.306158</td>\n",
              "      <td>0.670682</td>\n",
              "      <td>1.737218</td>\n",
              "      <td>-0.070312</td>\n",
              "      <td>0.105872</td>\n",
              "      <td>3.766030</td>\n",
              "      <td>0.617455</td>\n",
              "      <td>0</td>\n",
              "      <td>3</td>\n",
              "    </tr>\n",
              "    <tr>\n",
              "      <th>1</th>\n",
              "      <td>1.634642</td>\n",
              "      <td>0.018083</td>\n",
              "      <td>0.110400</td>\n",
              "      <td>3.790310</td>\n",
              "      <td>0.634715</td>\n",
              "      <td>1.661569</td>\n",
              "      <td>-0.007238</td>\n",
              "      <td>0.107412</td>\n",
              "      <td>3.782128</td>\n",
              "      <td>0.628952</td>\n",
              "      <td>2.004078</td>\n",
              "      <td>-0.080293</td>\n",
              "      <td>0.087863</td>\n",
              "      <td>3.951633</td>\n",
              "      <td>0.595102</td>\n",
              "      <td>0</td>\n",
              "      <td>3</td>\n",
              "    </tr>\n",
              "    <tr>\n",
              "      <th>2</th>\n",
              "      <td>1.074694</td>\n",
              "      <td>0.065929</td>\n",
              "      <td>0.167998</td>\n",
              "      <td>3.221520</td>\n",
              "      <td>0.699238</td>\n",
              "      <td>0.706793</td>\n",
              "      <td>0.146939</td>\n",
              "      <td>0.218193</td>\n",
              "      <td>2.767410</td>\n",
              "      <td>0.744963</td>\n",
              "      <td>1.463786</td>\n",
              "      <td>-0.065944</td>\n",
              "      <td>0.144459</td>\n",
              "      <td>3.463020</td>\n",
              "      <td>0.657724</td>\n",
              "      <td>1</td>\n",
              "      <td>3</td>\n",
              "    </tr>\n",
              "    <tr>\n",
              "      <th>3</th>\n",
              "      <td>1.019784</td>\n",
              "      <td>0.077932</td>\n",
              "      <td>0.194232</td>\n",
              "      <td>3.123375</td>\n",
              "      <td>0.720424</td>\n",
              "      <td>0.386602</td>\n",
              "      <td>0.101238</td>\n",
              "      <td>0.427192</td>\n",
              "      <td>1.889952</td>\n",
              "      <td>0.836425</td>\n",
              "      <td>1.259232</td>\n",
              "      <td>-0.066343</td>\n",
              "      <td>0.154500</td>\n",
              "      <td>3.280499</td>\n",
              "      <td>0.672789</td>\n",
              "      <td>1</td>\n",
              "      <td>3</td>\n",
              "    </tr>\n",
              "    <tr>\n",
              "      <th>4</th>\n",
              "      <td>1.101449</td>\n",
              "      <td>0.111032</td>\n",
              "      <td>0.161244</td>\n",
              "      <td>3.297428</td>\n",
              "      <td>0.695831</td>\n",
              "      <td>0.931695</td>\n",
              "      <td>0.125758</td>\n",
              "      <td>0.170359</td>\n",
              "      <td>3.128163</td>\n",
              "      <td>0.707464</td>\n",
              "      <td>1.197902</td>\n",
              "      <td>-0.045242</td>\n",
              "      <td>0.183544</td>\n",
              "      <td>3.152051</td>\n",
              "      <td>0.689856</td>\n",
              "      <td>2</td>\n",
              "      <td>3</td>\n",
              "    </tr>\n",
              "  </tbody>\n",
              "</table>\n",
              "</div>"
            ],
            "text/plain": [
              "   cH_Contrast  cH_Correlation  ...  Mass_shape_train  Breast_density_train\n",
              "0     1.173531        0.006151  ...                 0                     3\n",
              "1     1.634642        0.018083  ...                 0                     3\n",
              "2     1.074694        0.065929  ...                 1                     3\n",
              "3     1.019784        0.077932  ...                 1                     3\n",
              "4     1.101449        0.111032  ...                 2                     3\n",
              "\n",
              "[5 rows x 17 columns]"
            ]
          },
          "metadata": {
            "tags": []
          },
          "execution_count": 333
        }
      ]
    },
    {
      "cell_type": "code",
      "metadata": {
        "id": "SWavmA184u0y",
        "colab_type": "code",
        "colab": {
          "base_uri": "https://localhost:8080/",
          "height": 220
        },
        "outputId": "1c5a3c58-a168-4459-fdcf-f51f96f61014"
      },
      "source": [
        "# Test Dataframe\n",
        "empty = np.full(len(bio_testing_features_csv), np.nan)\n",
        "\n",
        "\n",
        "bio_testing_features_csv.insert(1, \"Test_Label\", empty, True) \n",
        "bio_testing_features_csv.insert(17, \"Mass_shape_test\", empty, True) \n",
        "bio_testing_features_csv.insert(18, \"Breast_density_test\", empty, True) \n",
        "\n",
        "# Comparing Label name to feature name\n",
        "\n",
        "bio_testing_features_csv['Mass_shape_test']=bio_testing_features_csv[['FileName']].merge(testing_label_names_df,how='left').Mass_shape_test\n",
        "bio_testing_features_csv['Test_Label']=bio_testing_features_csv[['FileName']].merge(testing_label_names_df,how='left').True_Test_Label\n",
        "bio_testing_features_csv['Breast_density_test']=bio_testing_features_csv[['FileName']].merge(testing_label_names_df,how='left').Breast_density_test\n",
        "\n",
        "x_test = bio_testing_features_csv.iloc[:,2:19]\n",
        "y_test = bio_testing_features_csv[\"Test_Label\"]\n",
        "\n",
        "# Test Set\n",
        "x_test.head()"
      ],
      "execution_count": 334,
      "outputs": [
        {
          "output_type": "execute_result",
          "data": {
            "text/html": [
              "<div>\n",
              "<style scoped>\n",
              "    .dataframe tbody tr th:only-of-type {\n",
              "        vertical-align: middle;\n",
              "    }\n",
              "\n",
              "    .dataframe tbody tr th {\n",
              "        vertical-align: top;\n",
              "    }\n",
              "\n",
              "    .dataframe thead th {\n",
              "        text-align: right;\n",
              "    }\n",
              "</style>\n",
              "<table border=\"1\" class=\"dataframe\">\n",
              "  <thead>\n",
              "    <tr style=\"text-align: right;\">\n",
              "      <th></th>\n",
              "      <th>cH_Contrast</th>\n",
              "      <th>cH_Correlation</th>\n",
              "      <th>cH_Energy</th>\n",
              "      <th>cH_Entropy</th>\n",
              "      <th>cH_Homogeneity</th>\n",
              "      <th>cV_Contrast</th>\n",
              "      <th>cV_Correlation</th>\n",
              "      <th>cV_Energy</th>\n",
              "      <th>cV_Entropy</th>\n",
              "      <th>cV_Homogeneity</th>\n",
              "      <th>cD_Contrast</th>\n",
              "      <th>cD_Correlation</th>\n",
              "      <th>cD_Energy</th>\n",
              "      <th>cD_Entropy</th>\n",
              "      <th>cD_Homogeneity</th>\n",
              "      <th>Mass_shape_test</th>\n",
              "      <th>Breast_density_test</th>\n",
              "    </tr>\n",
              "  </thead>\n",
              "  <tbody>\n",
              "    <tr>\n",
              "      <th>0</th>\n",
              "      <td>0.968760</td>\n",
              "      <td>0.121963</td>\n",
              "      <td>0.158681</td>\n",
              "      <td>3.177942</td>\n",
              "      <td>0.701615</td>\n",
              "      <td>0.640075</td>\n",
              "      <td>0.130760</td>\n",
              "      <td>0.220192</td>\n",
              "      <td>2.594506</td>\n",
              "      <td>0.748800</td>\n",
              "      <td>2.043646</td>\n",
              "      <td>-0.040337</td>\n",
              "      <td>0.091998</td>\n",
              "      <td>3.970347</td>\n",
              "      <td>0.601537</td>\n",
              "      <td>3</td>\n",
              "      <td>4</td>\n",
              "    </tr>\n",
              "    <tr>\n",
              "      <th>1</th>\n",
              "      <td>0.645573</td>\n",
              "      <td>0.104407</td>\n",
              "      <td>0.220939</td>\n",
              "      <td>2.565626</td>\n",
              "      <td>0.743494</td>\n",
              "      <td>1.047589</td>\n",
              "      <td>0.127220</td>\n",
              "      <td>0.153846</td>\n",
              "      <td>3.281726</td>\n",
              "      <td>0.691969</td>\n",
              "      <td>1.478971</td>\n",
              "      <td>-0.043858</td>\n",
              "      <td>0.132133</td>\n",
              "      <td>3.540128</td>\n",
              "      <td>0.651649</td>\n",
              "      <td>3</td>\n",
              "      <td>4</td>\n",
              "    </tr>\n",
              "    <tr>\n",
              "      <th>2</th>\n",
              "      <td>1.497262</td>\n",
              "      <td>-0.005520</td>\n",
              "      <td>0.130073</td>\n",
              "      <td>3.584649</td>\n",
              "      <td>0.650922</td>\n",
              "      <td>1.863456</td>\n",
              "      <td>-0.003581</td>\n",
              "      <td>0.105277</td>\n",
              "      <td>3.904346</td>\n",
              "      <td>0.625146</td>\n",
              "      <td>1.279940</td>\n",
              "      <td>-0.063180</td>\n",
              "      <td>0.147924</td>\n",
              "      <td>3.303997</td>\n",
              "      <td>0.661285</td>\n",
              "      <td>8</td>\n",
              "      <td>2</td>\n",
              "    </tr>\n",
              "    <tr>\n",
              "      <th>3</th>\n",
              "      <td>1.582785</td>\n",
              "      <td>0.000635</td>\n",
              "      <td>0.121241</td>\n",
              "      <td>3.685937</td>\n",
              "      <td>0.645660</td>\n",
              "      <td>1.230487</td>\n",
              "      <td>-0.012981</td>\n",
              "      <td>0.149163</td>\n",
              "      <td>3.315641</td>\n",
              "      <td>0.669638</td>\n",
              "      <td>0.817714</td>\n",
              "      <td>-0.060748</td>\n",
              "      <td>0.263950</td>\n",
              "      <td>2.649186</td>\n",
              "      <td>0.748019</td>\n",
              "      <td>8</td>\n",
              "      <td>2</td>\n",
              "    </tr>\n",
              "    <tr>\n",
              "      <th>4</th>\n",
              "      <td>1.175589</td>\n",
              "      <td>0.050247</td>\n",
              "      <td>0.152040</td>\n",
              "      <td>3.316143</td>\n",
              "      <td>0.683143</td>\n",
              "      <td>1.499113</td>\n",
              "      <td>0.067617</td>\n",
              "      <td>0.128853</td>\n",
              "      <td>3.675344</td>\n",
              "      <td>0.662270</td>\n",
              "      <td>1.171140</td>\n",
              "      <td>-0.048840</td>\n",
              "      <td>0.191403</td>\n",
              "      <td>3.090855</td>\n",
              "      <td>0.695815</td>\n",
              "      <td>8</td>\n",
              "      <td>3</td>\n",
              "    </tr>\n",
              "  </tbody>\n",
              "</table>\n",
              "</div>"
            ],
            "text/plain": [
              "   cH_Contrast  cH_Correlation  ...  Mass_shape_test  Breast_density_test\n",
              "0     0.968760        0.121963  ...                3                    4\n",
              "1     0.645573        0.104407  ...                3                    4\n",
              "2     1.497262       -0.005520  ...                8                    2\n",
              "3     1.582785        0.000635  ...                8                    2\n",
              "4     1.175589        0.050247  ...                8                    3\n",
              "\n",
              "[5 rows x 17 columns]"
            ]
          },
          "metadata": {
            "tags": []
          },
          "execution_count": 334
        }
      ]
    },
    {
      "cell_type": "markdown",
      "metadata": {
        "id": "OQV4ZV8o40uR",
        "colab_type": "text"
      },
      "source": [
        "Gabor CSVs"
      ]
    },
    {
      "cell_type": "code",
      "metadata": {
        "id": "sZrM7DDS43zB",
        "colab_type": "code",
        "colab": {
          "base_uri": "https://localhost:8080/",
          "height": 200
        },
        "outputId": "d50d8157-c0c3-4a1b-a4bb-f91fe03a0737"
      },
      "source": [
        "# Train Dataframe\n",
        "empty = np.full(len(gab_training_features_csv), np.nan)\n",
        "\n",
        "\n",
        "gab_training_features_csv.insert(1, \"Train_Label\", empty, True) \n",
        "gab_training_features_csv.insert(7, \"Mass_shape_train\", empty, True) \n",
        "gab_training_features_csv.insert(7, \"Breast_density_train\", empty, True)\n",
        "\n",
        "# Comparing Label name to feature name\n",
        "\n",
        "gab_training_features_csv['Breast_density_train']=gab_training_features_csv[['FileName']].merge(training_label_names_df,how='left').Breast_density_train\n",
        "gab_training_features_csv['Mass_shape_train']=gab_training_features_csv[['FileName']].merge(training_label_names_df,how='left').Mass_shape_train\n",
        "gab_training_features_csv['Train_Label']=gab_training_features_csv[['FileName']].merge(training_label_names_df,how='left').True_Train_Label\n",
        "\n",
        "x_train = gab_training_features_csv.iloc[:,2:9]\n",
        "y_train = gab_training_features_csv[\"Train_Label\"]\n",
        "\n",
        "# Train Set\n",
        "x_train.head()\n",
        "\n"
      ],
      "execution_count": 351,
      "outputs": [
        {
          "output_type": "execute_result",
          "data": {
            "text/html": [
              "<div>\n",
              "<style scoped>\n",
              "    .dataframe tbody tr th:only-of-type {\n",
              "        vertical-align: middle;\n",
              "    }\n",
              "\n",
              "    .dataframe tbody tr th {\n",
              "        vertical-align: top;\n",
              "    }\n",
              "\n",
              "    .dataframe thead th {\n",
              "        text-align: right;\n",
              "    }\n",
              "</style>\n",
              "<table border=\"1\" class=\"dataframe\">\n",
              "  <thead>\n",
              "    <tr style=\"text-align: right;\">\n",
              "      <th></th>\n",
              "      <th>Contrast</th>\n",
              "      <th>Correlation</th>\n",
              "      <th>Energy</th>\n",
              "      <th>Entropy</th>\n",
              "      <th>Homogeneity</th>\n",
              "      <th>Breast_density_train</th>\n",
              "      <th>Mass_shape_train</th>\n",
              "    </tr>\n",
              "  </thead>\n",
              "  <tbody>\n",
              "    <tr>\n",
              "      <th>0</th>\n",
              "      <td>0.119041</td>\n",
              "      <td>0.919344</td>\n",
              "      <td>0.275840</td>\n",
              "      <td>2.419681</td>\n",
              "      <td>0.940484</td>\n",
              "      <td>3</td>\n",
              "      <td>0</td>\n",
              "    </tr>\n",
              "    <tr>\n",
              "      <th>1</th>\n",
              "      <td>0.170060</td>\n",
              "      <td>0.934123</td>\n",
              "      <td>0.181728</td>\n",
              "      <td>3.023301</td>\n",
              "      <td>0.914979</td>\n",
              "      <td>3</td>\n",
              "      <td>0</td>\n",
              "    </tr>\n",
              "    <tr>\n",
              "      <th>2</th>\n",
              "      <td>0.116538</td>\n",
              "      <td>0.958092</td>\n",
              "      <td>0.188739</td>\n",
              "      <td>2.881857</td>\n",
              "      <td>0.941731</td>\n",
              "      <td>3</td>\n",
              "      <td>1</td>\n",
              "    </tr>\n",
              "    <tr>\n",
              "      <th>3</th>\n",
              "      <td>0.108481</td>\n",
              "      <td>0.964678</td>\n",
              "      <td>0.182407</td>\n",
              "      <td>2.903649</td>\n",
              "      <td>0.945759</td>\n",
              "      <td>3</td>\n",
              "      <td>1</td>\n",
              "    </tr>\n",
              "    <tr>\n",
              "      <th>4</th>\n",
              "      <td>0.131654</td>\n",
              "      <td>0.947776</td>\n",
              "      <td>0.200370</td>\n",
              "      <td>2.834158</td>\n",
              "      <td>0.934173</td>\n",
              "      <td>3</td>\n",
              "      <td>2</td>\n",
              "    </tr>\n",
              "  </tbody>\n",
              "</table>\n",
              "</div>"
            ],
            "text/plain": [
              "   Contrast  Correlation  ...  Breast_density_train  Mass_shape_train\n",
              "0  0.119041     0.919344  ...                     3                 0\n",
              "1  0.170060     0.934123  ...                     3                 0\n",
              "2  0.116538     0.958092  ...                     3                 1\n",
              "3  0.108481     0.964678  ...                     3                 1\n",
              "4  0.131654     0.947776  ...                     3                 2\n",
              "\n",
              "[5 rows x 7 columns]"
            ]
          },
          "metadata": {
            "tags": []
          },
          "execution_count": 351
        }
      ]
    },
    {
      "cell_type": "code",
      "metadata": {
        "id": "NiOTbaiL46lD",
        "colab_type": "code",
        "colab": {
          "base_uri": "https://localhost:8080/",
          "height": 200
        },
        "outputId": "4db022c3-b593-452a-9335-b643bde51b98"
      },
      "source": [
        "# Test Dataframe\n",
        "empty = np.full(len(gab_testing_features_csv), np.nan)\n",
        "\n",
        "\n",
        "gab_testing_features_csv.insert(1, \"Test_Label\", empty, True) \n",
        "gab_testing_features_csv.insert(7, \"Mass_shape_test\", empty, True) \n",
        "gab_testing_features_csv.insert(7, \"Breast_density_test\", empty, True) \n",
        "\n",
        "# Comparing Label name to feature name\n",
        "\n",
        "gab_testing_features_csv['Mass_shape_test']=gab_testing_features_csv[['FileName']].merge(testing_label_names_df,how='left').Mass_shape_test\n",
        "gab_testing_features_csv['Test_Label']=gab_testing_features_csv[['FileName']].merge(testing_label_names_df,how='left').True_Test_Label\n",
        "gab_testing_features_csv['Breast_density_test']=gab_testing_features_csv[['FileName']].merge(testing_label_names_df,how='left').Breast_density_test\n",
        "\n",
        "x_test = gab_testing_features_csv.iloc[:,2:9]\n",
        "y_test = gab_testing_features_csv[\"Test_Label\"]\n",
        "\n",
        "# Test Set\n",
        "x_test.head()"
      ],
      "execution_count": 352,
      "outputs": [
        {
          "output_type": "execute_result",
          "data": {
            "text/html": [
              "<div>\n",
              "<style scoped>\n",
              "    .dataframe tbody tr th:only-of-type {\n",
              "        vertical-align: middle;\n",
              "    }\n",
              "\n",
              "    .dataframe tbody tr th {\n",
              "        vertical-align: top;\n",
              "    }\n",
              "\n",
              "    .dataframe thead th {\n",
              "        text-align: right;\n",
              "    }\n",
              "</style>\n",
              "<table border=\"1\" class=\"dataframe\">\n",
              "  <thead>\n",
              "    <tr style=\"text-align: right;\">\n",
              "      <th></th>\n",
              "      <th>Contrast</th>\n",
              "      <th>Correlation</th>\n",
              "      <th>Energy</th>\n",
              "      <th>Entropy</th>\n",
              "      <th>Homogeneity</th>\n",
              "      <th>Breast_density_test</th>\n",
              "      <th>Mass_shape_test</th>\n",
              "    </tr>\n",
              "  </thead>\n",
              "  <tbody>\n",
              "    <tr>\n",
              "      <th>0</th>\n",
              "      <td>0.102955</td>\n",
              "      <td>0.939851</td>\n",
              "      <td>0.286298</td>\n",
              "      <td>2.376200</td>\n",
              "      <td>0.948523</td>\n",
              "      <td>4</td>\n",
              "      <td>3</td>\n",
              "    </tr>\n",
              "    <tr>\n",
              "      <th>1</th>\n",
              "      <td>0.079095</td>\n",
              "      <td>0.954995</td>\n",
              "      <td>0.280506</td>\n",
              "      <td>2.327558</td>\n",
              "      <td>0.960452</td>\n",
              "      <td>4</td>\n",
              "      <td>3</td>\n",
              "    </tr>\n",
              "    <tr>\n",
              "      <th>2</th>\n",
              "      <td>0.142428</td>\n",
              "      <td>0.967066</td>\n",
              "      <td>0.144734</td>\n",
              "      <td>3.231605</td>\n",
              "      <td>0.928786</td>\n",
              "      <td>2</td>\n",
              "      <td>8</td>\n",
              "    </tr>\n",
              "    <tr>\n",
              "      <th>3</th>\n",
              "      <td>0.127339</td>\n",
              "      <td>0.967254</td>\n",
              "      <td>0.153472</td>\n",
              "      <td>3.138315</td>\n",
              "      <td>0.936331</td>\n",
              "      <td>2</td>\n",
              "      <td>8</td>\n",
              "    </tr>\n",
              "    <tr>\n",
              "      <th>4</th>\n",
              "      <td>0.119729</td>\n",
              "      <td>0.970845</td>\n",
              "      <td>0.150993</td>\n",
              "      <td>3.123449</td>\n",
              "      <td>0.940135</td>\n",
              "      <td>3</td>\n",
              "      <td>8</td>\n",
              "    </tr>\n",
              "  </tbody>\n",
              "</table>\n",
              "</div>"
            ],
            "text/plain": [
              "   Contrast  Correlation  ...  Breast_density_test  Mass_shape_test\n",
              "0  0.102955     0.939851  ...                    4                3\n",
              "1  0.079095     0.954995  ...                    4                3\n",
              "2  0.142428     0.967066  ...                    2                8\n",
              "3  0.127339     0.967254  ...                    2                8\n",
              "4  0.119729     0.970845  ...                    3                8\n",
              "\n",
              "[5 rows x 7 columns]"
            ]
          },
          "metadata": {
            "tags": []
          },
          "execution_count": 352
        }
      ]
    },
    {
      "cell_type": "markdown",
      "metadata": {
        "id": "R9jNLxv9m-31",
        "colab_type": "text"
      },
      "source": [
        "Data Normalization"
      ]
    },
    {
      "cell_type": "code",
      "metadata": {
        "id": "EfgdcuWw32Ni",
        "colab_type": "code",
        "outputId": "6e1c9b25-81c1-4a2c-d331-f137bdb51ca6",
        "colab": {
          "base_uri": "https://localhost:8080/",
          "height": 200
        }
      },
      "source": [
        "# Train Set Normalization\n",
        "from scipy.stats import zscore\n",
        "\n",
        "x_train = x_train.apply(zscore)\n",
        "x_train.head()"
      ],
      "execution_count": 353,
      "outputs": [
        {
          "output_type": "execute_result",
          "data": {
            "text/html": [
              "<div>\n",
              "<style scoped>\n",
              "    .dataframe tbody tr th:only-of-type {\n",
              "        vertical-align: middle;\n",
              "    }\n",
              "\n",
              "    .dataframe tbody tr th {\n",
              "        vertical-align: top;\n",
              "    }\n",
              "\n",
              "    .dataframe thead th {\n",
              "        text-align: right;\n",
              "    }\n",
              "</style>\n",
              "<table border=\"1\" class=\"dataframe\">\n",
              "  <thead>\n",
              "    <tr style=\"text-align: right;\">\n",
              "      <th></th>\n",
              "      <th>Contrast</th>\n",
              "      <th>Correlation</th>\n",
              "      <th>Energy</th>\n",
              "      <th>Entropy</th>\n",
              "      <th>Homogeneity</th>\n",
              "      <th>Breast_density_train</th>\n",
              "      <th>Mass_shape_train</th>\n",
              "    </tr>\n",
              "  </thead>\n",
              "  <tbody>\n",
              "    <tr>\n",
              "      <th>0</th>\n",
              "      <td>0.063756</td>\n",
              "      <td>-1.662095</td>\n",
              "      <td>0.515560</td>\n",
              "      <td>-0.597753</td>\n",
              "      <td>-0.063792</td>\n",
              "      <td>0.912094</td>\n",
              "      <td>-1.490050</td>\n",
              "    </tr>\n",
              "    <tr>\n",
              "      <th>1</th>\n",
              "      <td>1.704358</td>\n",
              "      <td>-0.902583</td>\n",
              "      <td>-0.412734</td>\n",
              "      <td>0.549064</td>\n",
              "      <td>-1.704827</td>\n",
              "      <td>0.912094</td>\n",
              "      <td>-1.490050</td>\n",
              "    </tr>\n",
              "    <tr>\n",
              "      <th>2</th>\n",
              "      <td>-0.016753</td>\n",
              "      <td>0.329237</td>\n",
              "      <td>-0.343579</td>\n",
              "      <td>0.280335</td>\n",
              "      <td>0.016461</td>\n",
              "      <td>0.912094</td>\n",
              "      <td>-1.125963</td>\n",
              "    </tr>\n",
              "    <tr>\n",
              "      <th>3</th>\n",
              "      <td>-0.275826</td>\n",
              "      <td>0.667671</td>\n",
              "      <td>-0.406035</td>\n",
              "      <td>0.321737</td>\n",
              "      <td>0.275648</td>\n",
              "      <td>0.912094</td>\n",
              "      <td>-1.125963</td>\n",
              "    </tr>\n",
              "    <tr>\n",
              "      <th>4</th>\n",
              "      <td>0.469353</td>\n",
              "      <td>-0.200954</td>\n",
              "      <td>-0.228851</td>\n",
              "      <td>0.189712</td>\n",
              "      <td>-0.469858</td>\n",
              "      <td>0.912094</td>\n",
              "      <td>-0.761876</td>\n",
              "    </tr>\n",
              "  </tbody>\n",
              "</table>\n",
              "</div>"
            ],
            "text/plain": [
              "   Contrast  Correlation  ...  Breast_density_train  Mass_shape_train\n",
              "0  0.063756    -1.662095  ...              0.912094         -1.490050\n",
              "1  1.704358    -0.902583  ...              0.912094         -1.490050\n",
              "2 -0.016753     0.329237  ...              0.912094         -1.125963\n",
              "3 -0.275826     0.667671  ...              0.912094         -1.125963\n",
              "4  0.469353    -0.200954  ...              0.912094         -0.761876\n",
              "\n",
              "[5 rows x 7 columns]"
            ]
          },
          "metadata": {
            "tags": []
          },
          "execution_count": 353
        }
      ]
    },
    {
      "cell_type": "code",
      "metadata": {
        "id": "x1zzoa1C37NU",
        "colab_type": "code",
        "outputId": "8fb77cd1-41d4-49ff-dba2-350fbff30825",
        "colab": {
          "base_uri": "https://localhost:8080/",
          "height": 200
        }
      },
      "source": [
        "# Test Set Normaization\n",
        "\n",
        "x_test = x_test.apply(zscore)\n",
        "\n",
        "x_test.head()"
      ],
      "execution_count": 354,
      "outputs": [
        {
          "output_type": "execute_result",
          "data": {
            "text/html": [
              "<div>\n",
              "<style scoped>\n",
              "    .dataframe tbody tr th:only-of-type {\n",
              "        vertical-align: middle;\n",
              "    }\n",
              "\n",
              "    .dataframe tbody tr th {\n",
              "        vertical-align: top;\n",
              "    }\n",
              "\n",
              "    .dataframe thead th {\n",
              "        text-align: right;\n",
              "    }\n",
              "</style>\n",
              "<table border=\"1\" class=\"dataframe\">\n",
              "  <thead>\n",
              "    <tr style=\"text-align: right;\">\n",
              "      <th></th>\n",
              "      <th>Contrast</th>\n",
              "      <th>Correlation</th>\n",
              "      <th>Energy</th>\n",
              "      <th>Entropy</th>\n",
              "      <th>Homogeneity</th>\n",
              "      <th>Breast_density_test</th>\n",
              "      <th>Mass_shape_test</th>\n",
              "    </tr>\n",
              "  </thead>\n",
              "  <tbody>\n",
              "    <tr>\n",
              "      <th>0</th>\n",
              "      <td>-0.444326</td>\n",
              "      <td>-0.518015</td>\n",
              "      <td>0.623616</td>\n",
              "      <td>-0.660965</td>\n",
              "      <td>0.444244</td>\n",
              "      <td>1.873902</td>\n",
              "      <td>-0.416008</td>\n",
              "    </tr>\n",
              "    <tr>\n",
              "      <th>1</th>\n",
              "      <td>-1.280230</td>\n",
              "      <td>0.213857</td>\n",
              "      <td>0.563978</td>\n",
              "      <td>-0.755841</td>\n",
              "      <td>1.280378</td>\n",
              "      <td>1.873902</td>\n",
              "      <td>-0.416008</td>\n",
              "    </tr>\n",
              "    <tr>\n",
              "      <th>2</th>\n",
              "      <td>0.938583</td>\n",
              "      <td>0.797270</td>\n",
              "      <td>-0.833847</td>\n",
              "      <td>1.007520</td>\n",
              "      <td>-0.939044</td>\n",
              "      <td>-0.455983</td>\n",
              "      <td>1.573364</td>\n",
              "    </tr>\n",
              "    <tr>\n",
              "      <th>3</th>\n",
              "      <td>0.409945</td>\n",
              "      <td>0.806361</td>\n",
              "      <td>-0.743883</td>\n",
              "      <td>0.825555</td>\n",
              "      <td>-0.410261</td>\n",
              "      <td>-0.455983</td>\n",
              "      <td>1.573364</td>\n",
              "    </tr>\n",
              "    <tr>\n",
              "      <th>4</th>\n",
              "      <td>0.143355</td>\n",
              "      <td>0.979887</td>\n",
              "      <td>-0.769413</td>\n",
              "      <td>0.796560</td>\n",
              "      <td>-0.143598</td>\n",
              "      <td>0.708960</td>\n",
              "      <td>1.573364</td>\n",
              "    </tr>\n",
              "  </tbody>\n",
              "</table>\n",
              "</div>"
            ],
            "text/plain": [
              "   Contrast  Correlation  ...  Breast_density_test  Mass_shape_test\n",
              "0 -0.444326    -0.518015  ...             1.873902        -0.416008\n",
              "1 -1.280230     0.213857  ...             1.873902        -0.416008\n",
              "2  0.938583     0.797270  ...            -0.455983         1.573364\n",
              "3  0.409945     0.806361  ...            -0.455983         1.573364\n",
              "4  0.143355     0.979887  ...             0.708960         1.573364\n",
              "\n",
              "[5 rows x 7 columns]"
            ]
          },
          "metadata": {
            "tags": []
          },
          "execution_count": 354
        }
      ]
    },
    {
      "cell_type": "markdown",
      "metadata": {
        "id": "fjgQzkgvK3Ke",
        "colab_type": "text"
      },
      "source": [
        "Correlation Heatmap"
      ]
    },
    {
      "cell_type": "code",
      "metadata": {
        "id": "c-2c66KI4r1W",
        "colab_type": "code",
        "outputId": "dd662b09-4224-460f-c9ee-4d2f14ee214e",
        "colab": {
          "base_uri": "https://localhost:8080/",
          "height": 1000
        }
      },
      "source": [
        "import pandas as pd\n",
        "import numpy as np\n",
        "import seaborn as sns\n",
        "\n",
        "corrmat = x_train.corr()\n",
        "top_corr_features = corrmat.index\n",
        "plt.figure(figsize=(20,20))\n",
        "#plot heat map\n",
        "g=sns.heatmap(x_train[top_corr_features].corr(),annot=True,cmap=\"RdYlGn\")\n",
        "print (min(x_train[top_corr_features].corr()))"
      ],
      "execution_count": 286,
      "outputs": [
        {
          "output_type": "stream",
          "text": [
            "Breast_density_train\n"
          ],
          "name": "stdout"
        },
        {
          "output_type": "display_data",
          "data": {
            "image/png": "[encoded data removed]",
            "text/plain": [
              "<Figure size 1440x1440 with 2 Axes>"
            ]
          },
          "metadata": {
            "tags": []
          }
        }
      ]
    },
    {
      "cell_type": "markdown",
      "metadata": {
        "id": "BLxh5Jm8ChyL",
        "colab_type": "text"
      },
      "source": [
        "Feature Importance"
      ]
    },
    {
      "cell_type": "code",
      "metadata": {
        "id": "nvtuJQlK90GU",
        "colab_type": "code",
        "outputId": "48dac9f5-96b8-4940-fd8e-dee58c5e0c2e",
        "colab": {
          "base_uri": "https://localhost:8080/",
          "height": 412
        }
      },
      "source": [
        "from sklearn.ensemble import ExtraTreesClassifier\n",
        "import matplotlib.pyplot as plt\n",
        "\n",
        "model = ExtraTreesClassifier(n_estimators = 1000)\n",
        "model.fit(x_train,y_train)\n",
        "print(model.feature_importances_) #use inbuilt class feature_importances of tree based classifiers\n",
        "\n",
        "#plot graph of feature importances for better visualization\n",
        "feat_importances = pd.Series(model.feature_importances_, index=x_train.columns)\n",
        "feat_importances.nlargest(5).plot(kind='barh')\n",
        "plt.title(\"Feature Importance Using Extra Trees Algorithm\")\n",
        "plt.xlabel(\"Score\")\n",
        "plt.ylabel(\"Feature\")\n",
        "plt.show()"
      ],
      "execution_count": 287,
      "outputs": [
        {
          "output_type": "stream",
          "text": [
            "[0.1359142  0.1452082  0.14003732 0.14073717 0.13618914 0.07109372\n",
            " 0.23082027]\n"
          ],
          "name": "stdout"
        },
        {
          "output_type": "display_data",
          "data": {
            "image/png": "[encoded data removed]",
            "text/plain": [
              "<Figure size 576x396 with 1 Axes>"
            ]
          },
          "metadata": {
            "tags": []
          }
        }
      ]
    },
    {
      "cell_type": "markdown",
      "metadata": {
        "id": "C1rdOR2nLExb",
        "colab_type": "text"
      },
      "source": [
        "Principal Component Analysis"
      ]
    },
    {
      "cell_type": "code",
      "metadata": {
        "id": "m6tUAET8D_6i",
        "colab_type": "code",
        "outputId": "bcb8ceaf-19c2-4edd-a033-e8603c2eec9a",
        "colab": {
          "base_uri": "https://localhost:8080/",
          "height": 139
        }
      },
      "source": [
        "from sklearn.decomposition import PCA\n",
        "\n",
        "\n",
        "model = PCA(n_components=.95).fit(x_train)\n",
        "X_pc = model.transform(x_train)\n",
        "\n",
        "# number of components\n",
        "n_pcs= model.components_.shape[0]\n",
        "\n",
        "# get the index of the most important feature on EACH component i.e. largest absolute value\n",
        "# using LIST COMPREHENSION HERE\n",
        "most_important = [np.abs(model.components_[i]).argmax() for i in range(n_pcs)]\n",
        "\n",
        "initial_feature_names = ['cH_Contrast','cH_Correlation','cH_Energy','cH_Entropy','cH_Homogeneity', 'cV_Contrast','cV_Correlation','cV_Energy','cV_Entropy','cV_Homogeneity', 'cD_Contrast','cD_Correlation','cD_Energy','cD_Entropy','cD_Homogeneity', 'Mass_shape_train','Breast_density_train']\n",
        "\n",
        "# get the names\n",
        "most_important_names = [initial_feature_names[most_important[i]] for i in range(n_pcs)]\n",
        "\n",
        "# using LIST COMPREHENSION HERE AGAIN\n",
        "dic = {'PC{}'.format(i+1): most_important_names[i] for i in range(n_pcs)}\n",
        "\n",
        "# build the dataframe\n",
        "df = pd.DataFrame(sorted(dic.items()))\n",
        "\n",
        "df.head(20)"
      ],
      "execution_count": 335,
      "outputs": [
        {
          "output_type": "execute_result",
          "data": {
            "text/html": [
              "<div>\n",
              "<style scoped>\n",
              "    .dataframe tbody tr th:only-of-type {\n",
              "        vertical-align: middle;\n",
              "    }\n",
              "\n",
              "    .dataframe tbody tr th {\n",
              "        vertical-align: top;\n",
              "    }\n",
              "\n",
              "    .dataframe thead th {\n",
              "        text-align: right;\n",
              "    }\n",
              "</style>\n",
              "<table border=\"1\" class=\"dataframe\">\n",
              "  <thead>\n",
              "    <tr style=\"text-align: right;\">\n",
              "      <th></th>\n",
              "      <th>0</th>\n",
              "      <th>1</th>\n",
              "    </tr>\n",
              "  </thead>\n",
              "  <tbody>\n",
              "    <tr>\n",
              "      <th>0</th>\n",
              "      <td>PC1</td>\n",
              "      <td>Mass_shape_train</td>\n",
              "    </tr>\n",
              "    <tr>\n",
              "      <th>1</th>\n",
              "      <td>PC2</td>\n",
              "      <td>cV_Entropy</td>\n",
              "    </tr>\n",
              "    <tr>\n",
              "      <th>2</th>\n",
              "      <td>PC3</td>\n",
              "      <td>Breast_density_train</td>\n",
              "    </tr>\n",
              "  </tbody>\n",
              "</table>\n",
              "</div>"
            ],
            "text/plain": [
              "     0                     1\n",
              "0  PC1      Mass_shape_train\n",
              "1  PC2            cV_Entropy\n",
              "2  PC3  Breast_density_train"
            ]
          },
          "metadata": {
            "tags": []
          },
          "execution_count": 335
        }
      ]
    },
    {
      "cell_type": "code",
      "metadata": {
        "id": "0lPctNjdACBF",
        "colab_type": "code",
        "outputId": "0b841717-97e8-4514-c758-8a9acd29c0a1",
        "colab": {
          "base_uri": "https://localhost:8080/",
          "height": 824
        }
      },
      "source": [
        "# Training Data\n",
        "from sklearn.decomposition import PCA\n",
        "\n",
        "pca = PCA(n_components = .95) #Choose the number dimensions to add up to 95% of the variance\n",
        "\n",
        "# Training Data\n",
        "X_train_reduced = pca.fit_transform(x_train)\n",
        "\n",
        "print('Number of Dimensions in Train using PCA = %d' %(X_train_reduced.shape[1]))\n",
        "\n",
        "# Explained Variance Ratio\n",
        "cum_var_train = np.cumsum(pca.explained_variance_ratio_)\n",
        "\n",
        "plt.figure(figsize = (10,6))\n",
        "plt.plot(cum_var_train)\n",
        "plt.xlabel('Dimensions')\n",
        "plt.ylabel('Explained Variance')\n",
        "plt.title('Explained Variance as a Funciton of the Number of Dimensions for Training')\n",
        "plt.show()\n",
        "\n",
        "# Testing Data\n",
        "X_test_reduced = pca.transform(x_test)\n",
        "\n",
        "print('Number of Dimensions in Test using PCA = %d' %(X_test_reduced.shape[1]))\n",
        "# Explained Variance Ratio\n",
        "cum_var_test = np.cumsum(pca.explained_variance_ratio_)\n",
        "\n",
        "plt.figure(figsize = (10,6))\n",
        "plt.plot(cum_var_train)\n",
        "plt.xlabel('Dimensions')\n",
        "plt.ylabel('Explained Variance')\n",
        "plt.title('Explained Variance as a Funciton of the Number of Dimensions for Testing')\n",
        "plt.show()"
      ],
      "execution_count": 349,
      "outputs": [
        {
          "output_type": "stream",
          "text": [
            "Number of Dimensions in Train using PCA = 7\n"
          ],
          "name": "stdout"
        },
        {
          "output_type": "display_data",
          "data": {
            "image/png": "[encoded data removed]",
            "text/plain": [
              "<Figure size 720x432 with 1 Axes>"
            ]
          },
          "metadata": {
            "tags": []
          }
        },
        {
          "output_type": "stream",
          "text": [
            "Number of Dimensions in Test using PCA = 7\n"
          ],
          "name": "stdout"
        },
        {
          "output_type": "display_data",
          "data": {
            "image/png": "[encoded data removed]",
            "text/plain": [
              "<Figure size 720x432 with 1 Axes>"
            ]
          },
          "metadata": {
            "tags": []
          }
        }
      ]
    },
    {
      "cell_type": "markdown",
      "metadata": {
        "id": "Mvrb_xYTotBw",
        "colab_type": "text"
      },
      "source": [
        "Feature Pruning Training Set"
      ]
    },
    {
      "cell_type": "code",
      "metadata": {
        "id": "0ZN_AHbR-mxv",
        "colab_type": "code",
        "colab": {}
      },
      "source": [
        "#1) Using Feature Importance\n",
        "#Selected 5 most important features\n",
        "#'cV_Homogeneity', 'cV_Correlation', 'cD_Correlation','cD_Energy','Mass_shape_train'\n",
        "\n",
        "# #For Wavelet\n",
        "# x_train_FI = x_train[['cV_Homogeneity', 'cV_Correlation', 'cD_Correlation','cD_Energy','Mass_shape_train']]\n",
        "# x_test_FI = x_test[['cV_Homogeneity', 'cV_Correlation', 'cD_Correlation','cD_Energy','Mass_shape_test']]\n",
        "\n",
        "#For Gabor\n",
        "x_train_FI = x_train[['Homogeneity', 'Correlation','Energy','Entropy','Mass_shape_train']]\n",
        "x_test_FI = x_test[['Homogeneity', 'Correlation','Energy','Entropy','Mass_shape_test']]\n"
      ],
      "execution_count": 0,
      "outputs": []
    },
    {
      "cell_type": "code",
      "metadata": {
        "id": "ogChTmC4pOwY",
        "colab_type": "code",
        "colab": {}
      },
      "source": [
        "#2) Using PCA \n",
        "#cH_Entropy, cD_Energy,\tcH_Energy, Mass_shape_test, cV_Correlation\n",
        "\n",
        "#For wavelet\n",
        "# x_train_PCA = x_train[['cH_Entropy', 'cD_Energy', 'cH_Energy','cH_Correlation', 'cV_Correlation','cD_Correlation','Mass_shape_train','Breast_density_train']]\n",
        "# x_test_PCA = x_test[['cH_Entropy', 'cD_Energy', 'cH_Energy','cH_Correlation', 'cV_Correlation','cD_Correlation','Mass_shape_test','Breast_density_test']]\n",
        "#For Gabor\n",
        "x_train_PCA = x_train[['Entropy', 'Energy', 'Correlation','Mass_shape_train','Breast_density_train']]\n",
        "x_test_PCA = x_test[['Entropy', 'Energy', 'Correlation','Mass_shape_test','Breast_density_test']]\n"
      ],
      "execution_count": 0,
      "outputs": []
    },
    {
      "cell_type": "code",
      "metadata": {
        "id": "IemqecyUaG8j",
        "colab_type": "code",
        "colab": {}
      },
      "source": [
        "#3) Correlation Based \n",
        "# x_train_corr = x_train[['cD_Homogeneity', 'cV_Correlation','Mass_shape_train','Breast_density_train']]\n",
        "# x_test_corr = x_test[['cD_Homogeneity', 'cV_Correlation','Mass_shape_test','Breast_density_test']]\n",
        "# #Gabor\n",
        "x_train_corr = x_train[['Contrast', 'Entropy','Mass_shape_train','Breast_density_train']]\n",
        "x_test_corr = x_test[['Contrast', 'Entropy','Mass_shape_test','Breast_density_test']]"
      ],
      "execution_count": 0,
      "outputs": []
    },
    {
      "cell_type": "code",
      "metadata": {
        "id": "-8FoAawZ5DI3",
        "colab_type": "code",
        "colab": {}
      },
      "source": [
        "#4) Clinical Features Only\n",
        "x_train_clinical = x_train[['Mass_shape_train','Breast_density_train']]\n",
        "x_test_clinical = x_test[['Mass_shape_test','Breast_density_test']]"
      ],
      "execution_count": 0,
      "outputs": []
    },
    {
      "cell_type": "markdown",
      "metadata": {
        "id": "TvW-HWUgq3St",
        "colab_type": "text"
      },
      "source": [
        "Classification"
      ]
    },
    {
      "cell_type": "code",
      "metadata": {
        "id": "Dee0sTasrFPZ",
        "colab_type": "code",
        "outputId": "afbbd00e-156c-4b99-b39c-cad18db862e9",
        "colab": {
          "base_uri": "https://localhost:8080/",
          "height": 621
        }
      },
      "source": [
        "# Classification Feature Importance NNET\n",
        "\n",
        "from sklearn.neural_network import MLPClassifier\n",
        "from sklearn.metrics import classification_report,confusion_matrix\n",
        "from sklearn.model_selection import cross_val_score\n",
        "from sklearn.model_selection import GridSearchCV\n",
        "\n",
        "# Initialize default model\n",
        "nnet = MLPClassifier()\n",
        "# nnet_FI = MLPClassifier(solver='lbfgs', alpha=1e-5, hidden_layer_sizes=(x_train_FI.shape[1]), max_iter=10000, activation='logistic')\n",
        "# print(\"\\033[1m\" + \"FI: Model Configuration\" + \"\\033[0;0m\")\n",
        "# print(\"***********************\")\n",
        "# print(nnet_FI)\n",
        "\n",
        "# Cross Validation for Model Selection using Exhaustive Grid Search\n",
        "param_grid = [\n",
        "  #Original - logistic as base\n",
        "  {'solver': ['lbfgs'], 'alpha': [1e-5], 'hidden_layer_sizes': [x_train_FI.shape[1]], 'max_iter':[1000], 'activation':['logistic']},\n",
        "  #Changing iterations\n",
        "  {'solver': ['lbfgs'], 'alpha': [1e-5], 'hidden_layer_sizes': [x_train_FI.shape[1]], 'max_iter':[10000], 'activation':['logistic']},\n",
        "  {'solver': ['lbfgs'], 'alpha': [1e-5], 'hidden_layer_sizes': [x_train_FI.shape[1]], 'max_iter':[5000], 'activation':['logistic']},\n",
        "  #Changing activation\n",
        "  {'solver': ['lbfgs'], 'alpha': [1e-5], 'hidden_layer_sizes': [x_train_FI.shape[1]], 'max_iter':[1000], 'activation':['tanh']},\n",
        "  {'solver': ['lbfgs'], 'alpha': [1e-5], 'hidden_layer_sizes': [x_train_FI.shape[1]], 'max_iter':[1000], 'activation':['relu']},\n",
        "  #Changing solver\n",
        "  {'solver': ['sgd'], 'alpha': [1e-5], 'hidden_layer_sizes': [x_train_FI.shape[1]], 'max_iter':[1000], 'activation':['logistic']},\n",
        "  {'solver': ['adam'], 'alpha': [1e-5], 'hidden_layer_sizes': [x_train_FI.shape[1]], 'max_iter':[1000], 'activation':['logistic']},\n",
        "  #Changing # of layers\n",
        "  {'solver': ['lbfgs'], 'alpha': [1e-5], 'hidden_layer_sizes': [x_train_FI.shape[1], x_train_FI.shape[1]], 'max_iter':[1000], 'activation':['logistic']},\n",
        "  {'solver': ['lbfgs'], 'alpha': [1e-5], 'hidden_layer_sizes': [x_train_FI.shape[1], x_train_FI.shape[1], x_train_FI.shape[1]], 'max_iter':[1000], 'activation':['logistic']},\n",
        "  #Changing # of units\n",
        "  {'solver': ['lbfgs'], 'alpha': [1e-5], 'hidden_layer_sizes': [x_train_FI.shape[1]*2], 'max_iter':[1000], 'activation':['logistic']},\n",
        "  {'solver': ['lbfgs'], 'alpha': [1e-5], 'hidden_layer_sizes': [round(x_train_FI.shape[1]/2)], 'max_iter':[1000], 'activation':['logistic']},\n",
        "  #Changing # of units and layers\n",
        "  {'solver': ['lbfgs'], 'alpha': [1e-5], 'hidden_layer_sizes': [x_train_FI.shape[1]*2, x_train_FI.shape[1]], 'max_iter':[1000], 'activation':['logistic']},\n",
        "  {'solver': ['lbfgs'], 'alpha': [1e-5], 'hidden_layer_sizes': [x_train_FI.shape[1], round(x_train_FI.shape[1]/2), round(x_train_FI.shape[1]/4)], 'max_iter':[1000], 'activation':['logistic']},\n",
        "  #Changing regularization\n",
        "  {'solver': ['lbfgs'], 'alpha': [0.01], 'hidden_layer_sizes': [x_train_FI.shape[1]], 'max_iter':[1000], 'activation':['logistic']},\n",
        "  {'solver': ['lbfgs'], 'alpha': [0.001], 'hidden_layer_sizes': [x_train_FI.shape[1]], 'max_iter':[1000], 'activation':['logistic']},\n",
        " ]\n",
        "\n",
        "# Perform Grid Search - using default 5 fold cross validation\n",
        "searchCLF = GridSearchCV(nnet, param_grid, cv=5)\n",
        "nnet_FI = MLPClassifier(solver= 'lbfgs', alpha=0.01, hidden_layer_sizes=x_train_FI.shape[1], max_iter=1000, activation='logistic' )\n",
        "#Train grid \n",
        "# searchCLF.fit(x_train_FI, y_train)\n",
        "train_scores = []\n",
        "test_scores = []\n",
        "for i in range(5):\n",
        "  nnet_FI.fit(x_train_FI, y_train)\n",
        "  #Get best parameters \n",
        "  # params = searchCLF.best_params_\n",
        "\n",
        "  # print(params)\n",
        "  # print(searchCLF.best_score_)\n",
        "\n",
        "  # Predict with best model\n",
        "  # pred_y_test = searchCLF.predict(x_test_FI)\n",
        "  pred_y_test = nnet_FI.predict(x_test_FI)\n",
        "  print(\"\\033[1m\" + \"Training and Test Accuracy\" + \"\\033[0;0m\")\n",
        "  print(\"*****************************\")\n",
        "  # print(\"Training set score: %f\" % searchCLF.score(x_train_FI, y_train))\n",
        "  # print(\"Test set score: %f\" % searchCLF.score(x_test_FI, y_test))\n",
        "  print(\"Training set score: %f\" % nnet_FI.score(x_train_FI, y_train))\n",
        "  print(\"Test set score: %f\" % nnet_FI.score(x_test_FI, y_test))\n",
        "  train_scores.append(nnet_FI.score(x_train_FI, y_train))\n",
        "  test_scores.append(nnet_FI.score(x_test_FI, y_test))\n",
        "\n",
        "test_scores = np.array(test_scores)\n",
        "train_scores = np.array(train_scores)\n",
        "print(\"*********************\")\n",
        "print(\"Training:\", train_scores.mean())\n",
        "print(\"Testing:\", test_scores.mean())\n",
        "\n",
        "print(\"\\033[1m\" + \"Classification Report\" + \"\\033[0;0m\")\n",
        "print(\"*********************\")\n",
        "print(classification_report(y_test,pred_y_test))\n",
        "\n"
      ],
      "execution_count": 358,
      "outputs": [
        {
          "output_type": "stream",
          "text": [
            "\u001b[1mTraining and Test Accuracy\u001b[0;0m\n",
            "*****************************\n",
            "Training set score: 0.742792\n",
            "Test set score: 0.750670\n",
            "\u001b[1mTraining and Test Accuracy\u001b[0;0m\n",
            "*****************************\n",
            "Training set score: 0.743551\n",
            "Test set score: 0.747989\n",
            "\u001b[1mTraining and Test Accuracy\u001b[0;0m\n",
            "*****************************\n",
            "Training set score: 0.740516\n",
            "Test set score: 0.721180\n",
            "\u001b[1mTraining and Test Accuracy\u001b[0;0m\n",
            "*****************************\n",
            "Training set score: 0.738998\n",
            "Test set score: 0.756032\n",
            "\u001b[1mTraining and Test Accuracy\u001b[0;0m\n",
            "*****************************\n",
            "Training set score: 0.744310\n",
            "Test set score: 0.753351\n",
            "*********************\n",
            "Training: 0.7420333839150227\n",
            "Testing: 0.7458445040214476\n",
            "\u001b[1mClassification Report\u001b[0;0m\n",
            "*********************\n",
            "              precision    recall  f1-score   support\n",
            "\n",
            "           0       0.69      0.67      0.68       147\n",
            "           1       0.79      0.81      0.80       226\n",
            "\n",
            "    accuracy                           0.75       373\n",
            "   macro avg       0.74      0.74      0.74       373\n",
            "weighted avg       0.75      0.75      0.75       373\n",
            "\n"
          ],
          "name": "stdout"
        }
      ]
    },
    {
      "cell_type": "code",
      "metadata": {
        "id": "10iRuJ4cPSAN",
        "colab_type": "code",
        "outputId": "ffb0f6ee-7668-438a-95f9-cc85a2a4b635",
        "colab": {
          "base_uri": "https://localhost:8080/",
          "height": 335
        }
      },
      "source": [
        "import seaborn as sn\n",
        "cmLR = confusion_matrix(y_test, pred_y_test)\n",
        "cmLR = cmLR.astype('float') / cmLR.sum(axis=1)[:, np.newaxis]\n",
        "\n",
        "df_cmLR = pd.DataFrame(cmLR)\n",
        "\n",
        "plt.figure(figsize = (10,5))\n",
        "plt.title(\"Confusion Matrix for Classification\")\n",
        "sn.heatmap(df_cmLR, annot=True)\n",
        "plt.show()"
      ],
      "execution_count": 359,
      "outputs": [
        {
          "output_type": "display_data",
          "data": {
            "image/png": "[encoded data removed]",
            "text/plain": [
              "<Figure size 720x360 with 2 Axes>"
            ]
          },
          "metadata": {
            "tags": []
          }
        }
      ]
    },
    {
      "cell_type": "code",
      "metadata": {
        "id": "he_Fxt6K2IwO",
        "colab_type": "code",
        "outputId": "1f873d9d-3940-44ad-fccc-e17839e88b1b",
        "colab": {
          "base_uri": "https://localhost:8080/",
          "height": 411
        }
      },
      "source": [
        "#Plot Loss Curves\n",
        "from sklearn.model_selection import learning_curve\n",
        "train_sizes, train_scores, validation_scores = learning_curve(estimator = nnet_FI, X = x_train_FI, y = y_train, cv = 5, scoring = 'accuracy')\n",
        "\n",
        "train_scores_mean = train_scores.mean(axis = 1)\n",
        "validation_scores_mean = validation_scores.mean(axis = 1)\n",
        "\n",
        "import matplotlib.pyplot as plt\n",
        "\n",
        "plt.style.use('seaborn')\n",
        "plt.plot(train_sizes, train_scores_mean, label = 'Training score')\n",
        "plt.plot(train_sizes, validation_scores_mean, label = 'Validation score')\n",
        "plt.ylabel('Accuracy', fontsize = 14)\n",
        "plt.xlabel('Training set size', fontsize = 14)\n",
        "plt.title('Learning curves for the Gabor-FI trained model', fontsize = 18, y = 1.03)\n",
        "plt.legend()"
      ],
      "execution_count": 360,
      "outputs": [
        {
          "output_type": "execute_result",
          "data": {
            "text/plain": [
              "<matplotlib.legend.Legend at 0x7fb634d46ac8>"
            ]
          },
          "metadata": {
            "tags": []
          },
          "execution_count": 360
        },
        {
          "output_type": "display_data",
          "data": {
            "image/png": "[encoded data removed]",
            "text/plain": [
              "<Figure size 576x396 with 1 Axes>"
            ]
          },
          "metadata": {
            "tags": []
          }
        }
      ]
    },
    {
      "cell_type": "code",
      "metadata": {
        "id": "OAbQZL2B2WAv",
        "colab_type": "code",
        "outputId": "1cf59414-de8e-4f9f-ae26-ba320f5eb2dc",
        "colab": {
          "base_uri": "https://localhost:8080/",
          "height": 376
        }
      },
      "source": [
        "# Plot ROC Curve\n",
        "\n",
        "from sklearn.metrics import roc_curve, roc_auc_score\n",
        "from sklearn.model_selection import cross_val_predict\n",
        "\n",
        "y_train_prob_FI = cross_val_predict(nnet_FI, x_train_FI, y_train, cv = 10, method = \"predict_proba\")\n",
        "y_train_scores_FI = y_train_prob_FI[:,1]\n",
        "fpr, tpr, thresholds = roc_curve(y_train,y_train_scores_FI)\n",
        "\n",
        "# Area Under the Curve\n",
        "roc_auc = roc_auc_score(y_train, y_train_scores_FI)\n",
        "\n",
        "def plot_roc_curve(fpr, tpr, label):\n",
        "  plt.plot(fpr, tpr, linewidth = 2, label = label)\n",
        "  plt.plot([0,1], [0,1], 'k--') #Dashed Diagonal\n",
        "  plt.xlabel(\"False Positive Rate\")\n",
        "  plt.ylabel(\"True Positive Rate (Recall)\")\n",
        "  plt.title(\"ROC Curve: %f\" % roc_auc)\n",
        "\n",
        "plot_roc_curve(fpr, tpr, \"FI NNET\")\n",
        "plt.legend(loc = \"lower right\")\n",
        "plt.show()\n"
      ],
      "execution_count": 361,
      "outputs": [
        {
          "output_type": "display_data",
          "data": {
            "image/png": "[encoded data removed]",
            "text/plain": [
              "<Figure size 576x396 with 1 Axes>"
            ]
          },
          "metadata": {
            "tags": []
          }
        }
      ]
    },
    {
      "cell_type": "code",
      "metadata": {
        "id": "MAWxAAeK5eQ8",
        "colab_type": "code",
        "outputId": "90bf5066-68a8-41d2-978e-f6f8a97f919b",
        "colab": {
          "base_uri": "https://localhost:8080/",
          "height": 621
        }
      },
      "source": [
        "#Classification Using PCA1\n",
        "\n",
        "from sklearn.neural_network import MLPClassifier\n",
        "from sklearn.metrics import classification_report,confusion_matrix\n",
        "from sklearn.model_selection import cross_val_score\n",
        "from sklearn.model_selection import GridSearchCV\n",
        "\n",
        "# Initialize default model\n",
        "nnet = MLPClassifier()\n",
        "# nnet_FI = MLPClassifier(solver='lbfgs', alpha=1e-5, hidden_layer_sizes=(x_train_FI.shape[1]), max_iter=10000, activation='logistic')\n",
        "# print(\"\\033[1m\" + \"FI: Model Configuration\" + \"\\033[0;0m\")\n",
        "# print(\"***********************\")\n",
        "# print(nnet_FI)\n",
        "\n",
        "# Cross Validation for Model Selection using Exhaustive Grid Search\n",
        "param_grid = [\n",
        "  #Original - logistic as base\n",
        "  {'solver': ['lbfgs'], 'alpha': [1e-5], 'hidden_layer_sizes': [x_train_PCA.shape[1]], 'max_iter':[1000], 'activation':['logistic']},\n",
        "  #Changing iterations\n",
        "  {'solver': ['lbfgs'], 'alpha': [1e-5], 'hidden_layer_sizes': [x_train_PCA.shape[1]], 'max_iter':[10000], 'activation':['logistic']},\n",
        "  {'solver': ['lbfgs'], 'alpha': [1e-5], 'hidden_layer_sizes': [x_train_PCA.shape[1]], 'max_iter':[5000], 'activation':['logistic']},\n",
        "  #Changing activation\n",
        "  {'solver': ['lbfgs'], 'alpha': [1e-5], 'hidden_layer_sizes': [x_train_PCA.shape[1]], 'max_iter':[1000], 'activation':['tanh']},\n",
        "  {'solver': ['lbfgs'], 'alpha': [1e-5], 'hidden_layer_sizes': [x_train_PCA.shape[1]], 'max_iter':[1000], 'activation':['relu']},\n",
        "  #Changing solver\n",
        "  {'solver': ['sgd'], 'alpha': [1e-5], 'hidden_layer_sizes': [x_train_PCA.shape[1]], 'max_iter':[1000], 'activation':['logistic']},\n",
        "  {'solver': ['adam'], 'alpha': [1e-5], 'hidden_layer_sizes': [x_train_PCA.shape[1]], 'max_iter':[1000], 'activation':['logistic']},\n",
        "  #Changing # of layers\n",
        "  {'solver': ['lbfgs'], 'alpha': [1e-5], 'hidden_layer_sizes': [x_train_PCA.shape[1], x_train_PCA.shape[1]], 'max_iter':[1000], 'activation':['logistic']},\n",
        "  {'solver': ['lbfgs'], 'alpha': [1e-5], 'hidden_layer_sizes': [x_train_PCA.shape[1], x_train_PCA.shape[1], x_train_PCA.shape[1]], 'max_iter':[1000], 'activation':['logistic']},\n",
        "   #Changing # of units\n",
        "  {'solver': ['lbfgs'], 'alpha': [1e-5], 'hidden_layer_sizes': [x_train_PCA.shape[1]*2], 'max_iter':[1000], 'activation':['logistic']},\n",
        "  {'solver': ['lbfgs'], 'alpha': [1e-5], 'hidden_layer_sizes': [round(x_train_PCA.shape[1]/2)], 'max_iter':[1000], 'activation':['logistic']},\n",
        "  #Changing # of units and layers\n",
        "  {'solver': ['lbfgs'], 'alpha': [1e-5], 'hidden_layer_sizes': [x_train_PCA.shape[1]*2, x_train_PCA.shape[1]], 'max_iter':[1000], 'activation':['logistic']},\n",
        "  {'solver': ['lbfgs'], 'alpha': [1e-5], 'hidden_layer_sizes': [x_train_PCA.shape[1], round(x_train_PCA.shape[1]/2), round(x_train_PCA.shape[1]/4)], 'max_iter':[1000], 'activation':['logistic']},\n",
        "  #Changing regularization\n",
        "  {'solver': ['lbfgs'], 'alpha': [0.01], 'hidden_layer_sizes': [x_train_PCA.shape[1]], 'max_iter':[1000], 'activation':['logistic']},\n",
        "  {'solver': ['lbfgs'], 'alpha': [0.001], 'hidden_layer_sizes': [x_train_PCA.shape[1]], 'max_iter':[1000], 'activation':['logistic']},\n",
        " ]\n",
        "\n",
        "# Perform Grid Search - using default 5 fold cross validation\n",
        "searchCLF = GridSearchCV(nnet, param_grid, cv=5)\n",
        "\n",
        "#Optimized MLP Params\n",
        "nnet_PCA = MLPClassifier(solver= 'lbfgs', alpha=0.001, hidden_layer_sizes=x_train_PCA.shape[1], max_iter=1000, activation='logistic' )\n",
        "\n",
        "#Train grid \n",
        "# searchCLF.fit(x_train_PCA, y_train)\n",
        "train_scores = []\n",
        "test_scores = []\n",
        "for i in range(5):\n",
        "  nnet_PCA.fit(x_train_PCA, y_train)\n",
        "\n",
        "  # #Get best parameters \n",
        "  # params = searchCLF.best_params_\n",
        "\n",
        "  # print(params)\n",
        "  # print(searchCLF.best_score_)\n",
        "\n",
        "  # Predict with best model\n",
        "  # pred_y_test = searchCLF.predict(x_test_FI)\n",
        "  pred_y_test = nnet_PCA.predict(x_test_PCA)\n",
        "  print(\"\\033[1m\" + \"Training and Test Accuracy\" + \"\\033[0;0m\")\n",
        "  print(\"*****************************\")\n",
        "  # print(\"Training set score: %f\" % searchCLF.score(x_train_FI, y_train))\n",
        "  # print(\"Test set score: %f\" % searchCLF.score(x_test_FI, y_test))\n",
        "  print(\"Training set score: %f\" % nnet_PCA.score(x_train_PCA, y_train))\n",
        "  print(\"Test set score: %f\" % nnet_PCA.score(x_test_PCA, y_test))\n",
        "\n",
        "  train_scores.append(nnet_PCA.score(x_train_PCA, y_train))\n",
        "  test_scores.append(nnet_PCA.score(x_test_PCA, y_test))\n",
        "\n",
        "test_scores = np.array(test_scores)\n",
        "train_scores = np.array(train_scores)\n",
        "print(\"*********************\")\n",
        "print(\"Training:\", train_scores.mean())\n",
        "print(\"Testing:\", test_scores.mean())\n",
        "print(\"\\033[1m\" + \"Classification Report\" + \"\\033[0;0m\")\n",
        "print(\"*********************\")\n",
        "print(classification_report(y_test,pred_y_test))\n"
      ],
      "execution_count": 362,
      "outputs": [
        {
          "output_type": "stream",
          "text": [
            "\u001b[1mTraining and Test Accuracy\u001b[0;0m\n",
            "*****************************\n",
            "Training set score: 0.668437\n",
            "Test set score: 0.471850\n",
            "\u001b[1mTraining and Test Accuracy\u001b[0;0m\n",
            "*****************************\n",
            "Training set score: 0.684370\n",
            "Test set score: 0.560322\n",
            "\u001b[1mTraining and Test Accuracy\u001b[0;0m\n",
            "*****************************\n",
            "Training set score: 0.746586\n",
            "Test set score: 0.745308\n",
            "\u001b[1mTraining and Test Accuracy\u001b[0;0m\n",
            "*****************************\n",
            "Training set score: 0.747344\n",
            "Test set score: 0.726542\n",
            "\u001b[1mTraining and Test Accuracy\u001b[0;0m\n",
            "*****************************\n",
            "Training set score: 0.726859\n",
            "Test set score: 0.689008\n",
            "*********************\n",
            "Training: 0.7147192716236722\n",
            "Testing: 0.6386058981233245\n",
            "\u001b[1mClassification Report\u001b[0;0m\n",
            "*********************\n",
            "              precision    recall  f1-score   support\n",
            "\n",
            "           0       0.61      0.59      0.60       147\n",
            "           1       0.74      0.76      0.75       226\n",
            "\n",
            "    accuracy                           0.69       373\n",
            "   macro avg       0.67      0.67      0.67       373\n",
            "weighted avg       0.69      0.69      0.69       373\n",
            "\n"
          ],
          "name": "stdout"
        }
      ]
    },
    {
      "cell_type": "code",
      "metadata": {
        "id": "Ng-Y5FW1z8Yf",
        "colab_type": "code",
        "colab": {
          "base_uri": "https://localhost:8080/",
          "height": 335
        },
        "outputId": "20795fc3-0dbc-4bdf-dbaf-249c8c21cee9"
      },
      "source": [
        "import seaborn as sn\n",
        "cmLR = confusion_matrix(y_test, pred_y_test)\n",
        "cmLR = cmLR.astype('float') / cmLR.sum(axis=1)[:, np.newaxis]\n",
        "\n",
        "df_cmLR = pd.DataFrame(cmLR)\n",
        "\n",
        "plt.figure(figsize = (10,5))\n",
        "plt.title(\"Confusion Matrix for Classification\")\n",
        "sn.heatmap(df_cmLR, annot=True)\n",
        "plt.show()"
      ],
      "execution_count": 363,
      "outputs": [
        {
          "output_type": "display_data",
          "data": {
            "image/png": "[encoded data removed]",
            "text/plain": [
              "<Figure size 720x360 with 2 Axes>"
            ]
          },
          "metadata": {
            "tags": []
          }
        }
      ]
    },
    {
      "cell_type": "code",
      "metadata": {
        "id": "T4kYqiBa0Bd6",
        "colab_type": "code",
        "colab": {
          "base_uri": "https://localhost:8080/",
          "height": 411
        },
        "outputId": "a5d10a09-58ba-4d45-9a49-ccc54ae67a61"
      },
      "source": [
        "#Plot Loss Curves\n",
        "from sklearn.model_selection import learning_curve\n",
        "train_sizes, train_scores, validation_scores = learning_curve(estimator = nnet_PCA, X = x_train_PCA, y = y_train, cv = 5, scoring = 'accuracy')\n",
        "\n",
        "train_scores_mean = train_scores.mean(axis = 1)\n",
        "validation_scores_mean = validation_scores.mean(axis = 1)\n",
        "\n",
        "import matplotlib.pyplot as plt\n",
        "\n",
        "plt.style.use('seaborn')\n",
        "plt.plot(train_sizes, train_scores_mean, label = 'Training score')\n",
        "plt.plot(train_sizes, validation_scores_mean, label = 'Validation score')\n",
        "plt.ylabel('Accuracy', fontsize = 14)\n",
        "plt.xlabel('Training set size', fontsize = 14)\n",
        "plt.title('Learning curves for the Gabor-PCA trained model', fontsize = 18, y = 1.03)\n",
        "plt.legend()"
      ],
      "execution_count": 364,
      "outputs": [
        {
          "output_type": "execute_result",
          "data": {
            "text/plain": [
              "<matplotlib.legend.Legend at 0x7fb634ae3908>"
            ]
          },
          "metadata": {
            "tags": []
          },
          "execution_count": 364
        },
        {
          "output_type": "display_data",
          "data": {
            "image/png": "[encoded data removed]",
            "text/plain": [
              "<Figure size 576x396 with 1 Axes>"
            ]
          },
          "metadata": {
            "tags": []
          }
        }
      ]
    },
    {
      "cell_type": "code",
      "metadata": {
        "id": "hIBwaQ7_0EXh",
        "colab_type": "code",
        "colab": {
          "base_uri": "https://localhost:8080/",
          "height": 376
        },
        "outputId": "1b375d89-f9bd-4322-8b5e-6f6639b06ab6"
      },
      "source": [
        "# Plot ROC Curve\n",
        "\n",
        "from sklearn.metrics import roc_curve, roc_auc_score\n",
        "from sklearn.model_selection import cross_val_predict\n",
        "\n",
        "y_train_prob_PCA = cross_val_predict(nnet_PCA, x_train_PCA, y_train, cv = 10, method = \"predict_proba\")\n",
        "y_train_scores_PCA = y_train_prob_PCA[:,1]\n",
        "fpr, tpr, thresholds = roc_curve(y_train,y_train_scores_PCA)\n",
        "\n",
        "# Area Under the Curve\n",
        "roc_auc = roc_auc_score(y_train, y_train_scores_PCA)\n",
        "\n",
        "def plot_roc_curve(fpr, tpr, label):\n",
        "  plt.plot(fpr, tpr, linewidth = 2, label = label)\n",
        "  plt.plot([0,1], [0,1], 'k--') #Dashed Diagonal\n",
        "  plt.xlabel(\"False Positive Rate\")\n",
        "  plt.ylabel(\"True Positive Rate (Recall)\")\n",
        "  plt.title(\"ROC Curve: %f\" % roc_auc)\n",
        "\n",
        "plot_roc_curve(fpr, tpr, \"PCA NNET\")\n",
        "plt.legend(loc = \"lower right\")\n",
        "plt.show()"
      ],
      "execution_count": 365,
      "outputs": [
        {
          "output_type": "display_data",
          "data": {
            "image/png": "[encoded data removed]",
            "text/plain": [
              "<Figure size 576x396 with 1 Axes>"
            ]
          },
          "metadata": {
            "tags": []
          }
        }
      ]
    },
    {
      "cell_type": "code",
      "metadata": {
        "id": "dss8DZSZ6SQh",
        "colab_type": "code",
        "outputId": "02970dda-5686-41c1-a951-920be1c9cd76",
        "colab": {
          "base_uri": "https://localhost:8080/",
          "height": 692
        }
      },
      "source": [
        "#Classification using Corr Features\n",
        "from sklearn.model_selection import cross_val_score\n",
        "from sklearn.model_selection import GridSearchCV\n",
        "\n",
        "# Initialize default model\n",
        "nnet = MLPClassifier()\n",
        "# nnet_FI = MLPClassifier(solver='lbfgs', alpha=1e-5, hidden_layer_sizes=(x_train_FI.shape[1]), max_iter=10000, activation='logistic')\n",
        "# print(\"\\033[1m\" + \"FI: Model Configuration\" + \"\\033[0;0m\")\n",
        "# print(\"***********************\")\n",
        "# print(nnet_FI)\n",
        "\n",
        "# Cross Validation for Model Selection using Exhaustive Grid Search\n",
        "param_grid = [\n",
        "  #Original - logistic as base\n",
        "  {'solver': ['lbfgs'], 'alpha': [1e-5], 'hidden_layer_sizes': [x_train_corr.shape[1]], 'max_iter':[1000], 'activation':['logistic']},\n",
        "  #Changing iterations\n",
        "  {'solver': ['lbfgs'], 'alpha': [1e-5], 'hidden_layer_sizes': [x_train_corr.shape[1]], 'max_iter':[10000], 'activation':['logistic']},\n",
        "  {'solver': ['lbfgs'], 'alpha': [1e-5], 'hidden_layer_sizes': [x_train_corr.shape[1]], 'max_iter':[5000], 'activation':['logistic']},\n",
        "  #Changing activation\n",
        "  {'solver': ['lbfgs'], 'alpha': [1e-5], 'hidden_layer_sizes': [x_train_corr.shape[1]], 'max_iter':[1000], 'activation':['tanh']},\n",
        "  {'solver': ['lbfgs'], 'alpha': [1e-5], 'hidden_layer_sizes': [x_train_corr.shape[1]], 'max_iter':[1000], 'activation':['relu']},\n",
        "  #Changing solver\n",
        "  {'solver': ['sgd'], 'alpha': [1e-5], 'hidden_layer_sizes': [x_train_corr.shape[1]], 'max_iter':[1000], 'activation':['logistic']},\n",
        "  {'solver': ['adam'], 'alpha': [1e-5], 'hidden_layer_sizes': [x_train_corr.shape[1]], 'max_iter':[1000], 'activation':['logistic']},\n",
        "  #Changing # of layers\n",
        "  {'solver': ['lbfgs'], 'alpha': [1e-5], 'hidden_layer_sizes': [x_train_corr.shape[1], x_train_corr.shape[1]], 'max_iter':[1000], 'activation':['logistic']},\n",
        "  {'solver': ['lbfgs'], 'alpha': [1e-5], 'hidden_layer_sizes': [x_train_corr.shape[1], x_train_corr.shape[1], x_train_corr.shape[1]], 'max_iter':[1000], 'activation':['logistic']},\n",
        "   #Changing # of units\n",
        "  {'solver': ['lbfgs'], 'alpha': [1e-5], 'hidden_layer_sizes': [x_train_corr.shape[1]*2], 'max_iter':[1000], 'activation':['logistic']},\n",
        "  {'solver': ['lbfgs'], 'alpha': [1e-5], 'hidden_layer_sizes': [round(x_train_corr.shape[1]/2)], 'max_iter':[1000], 'activation':['logistic']},\n",
        "  #Changing # of units and layers\n",
        "  {'solver': ['lbfgs'], 'alpha': [1e-5], 'hidden_layer_sizes': [x_train_corr.shape[1]*2, x_train_corr.shape[1]], 'max_iter':[1000], 'activation':['logistic']},\n",
        "  {'solver': ['lbfgs'], 'alpha': [1e-5], 'hidden_layer_sizes': [x_train_corr.shape[1], round(x_train_corr.shape[1]/2), round(x_train_corr.shape[1]/4)], 'max_iter':[1000], 'activation':['logistic']},\n",
        "  #Changing regularization\n",
        "  {'solver': ['lbfgs'], 'alpha': [0.01], 'hidden_layer_sizes': [x_train_corr.shape[1]], 'max_iter':[1000], 'activation':['logistic']},\n",
        "  {'solver': ['lbfgs'], 'alpha': [0.001], 'hidden_layer_sizes': [x_train_corr.shape[1]], 'max_iter':[1000], 'activation':['logistic']},\n",
        " ]\n",
        "\n",
        "\n",
        "# Perform Grid Search - using default 5 fold cross validation\n",
        "searchCLF = GridSearchCV(nnet, param_grid, cv=5)\n",
        "\n",
        "nnet_Corr = MLPClassifier(solver='lbfgs', alpha=1e-5, hidden_layer_sizes=(x_train_corr.shape[1]), max_iter=1000, activation='logistic')\n",
        "#Train grid \n",
        "#searchCLF.fit(x_train_corr, y_train)\n",
        "\n",
        "train_scores = []\n",
        "test_scores = []\n",
        "for i in range(5):\n",
        "  nnet_Corr.fit(x_train_corr, y_train)\n",
        "\n",
        "  # #Get best parameters \n",
        "  # params = searchCLF.best_params_\n",
        "\n",
        "  # print(params)\n",
        "  # print(searchCLF.best_score_)\n",
        "\n",
        "  # Predict with best model\n",
        "  # pred_y_test = searchCLF.predict(x_test_FI)\n",
        "  pred_y_test = nnet_Corr.predict(x_test_corr)\n",
        "  print(\"\\033[1m\" + \"Training and Test Accuracy\" + \"\\033[0;0m\")\n",
        "  print(\"*****************************\")\n",
        "  # print(\"Training set score: %f\" % searchCLF.score(x_train_FI, y_train))\n",
        "  # print(\"Test set score: %f\" % searchCLF.score(x_test_FI, y_test))\n",
        "  print(\"Training set score: %f\" % nnet_Corr.score(x_train_corr, y_train))\n",
        "  print(\"Test set score: %f\" % nnet_Corr.score(x_test_corr, y_test))\n",
        "\n",
        "  train_scores.append(nnet_Corr.score(x_train_corr, y_train))\n",
        "  test_scores.append(nnet_Corr.score(x_test_corr, y_test))\n",
        "\n",
        "test_scores = np.array(test_scores)\n",
        "train_scores = np.array(train_scores)\n",
        "print(\"*********************\")\n",
        "print(\"Training:\", train_scores.mean())\n",
        "print(\"Testing:\", test_scores.mean())\n",
        "\n",
        "#Get best parameters \n",
        "#params = searchCLF.best_params_\n",
        "\n",
        "#print(params)\n",
        "#print(searchCLF.best_score_)\n",
        "\n",
        "# Predict with best model\n",
        "# pred_y_test = searchCLF.predict(x_test_corr)\n",
        "pred_y_test = nnet_Corr.predict(x_test_corr)\n",
        "print(\"\\033[1m\" + \"Training and Test Accuracy\" + \"\\033[0;0m\")\n",
        "print(\"*****************************\")\n",
        "# print(\"Training set score: %f\" % searchCLF.score(x_train_corr, y_train))\n",
        "# print(\"Test set score: %f\" % searchCLF.score(x_test_corr, y_test))\n",
        "print(\"Training set score: %f\" % nnet_Corr.score(x_train_corr, y_train))\n",
        "print(\"Test set score: %f\" % nnet_Corr.score(x_test_corr, y_test))\n",
        "print(\"\\033[1m\" + \"Classification Report\" + \"\\033[0;0m\")\n",
        "print(\"*********************\")\n",
        "print(classification_report(y_test,pred_y_test))"
      ],
      "execution_count": 367,
      "outputs": [
        {
          "output_type": "stream",
          "text": [
            "\u001b[1mTraining and Test Accuracy\u001b[0;0m\n",
            "*****************************\n",
            "Training set score: 0.680577\n",
            "Test set score: 0.603217\n",
            "\u001b[1mTraining and Test Accuracy\u001b[0;0m\n",
            "*****************************\n",
            "Training set score: 0.680577\n",
            "Test set score: 0.522788\n",
            "\u001b[1mTraining and Test Accuracy\u001b[0;0m\n",
            "*****************************\n",
            "Training set score: 0.738240\n",
            "Test set score: 0.707775\n",
            "\u001b[1mTraining and Test Accuracy\u001b[0;0m\n",
            "*****************************\n",
            "Training set score: 0.693475\n",
            "Test set score: 0.697051\n",
            "\u001b[1mTraining and Test Accuracy\u001b[0;0m\n",
            "*****************************\n",
            "Training set score: 0.672989\n",
            "Test set score: 0.568365\n",
            "*********************\n",
            "Training: 0.6931714719271623\n",
            "Testing: 0.6198391420911528\n",
            "\u001b[1mTraining and Test Accuracy\u001b[0;0m\n",
            "*****************************\n",
            "Training set score: 0.672989\n",
            "Test set score: 0.568365\n",
            "\u001b[1mClassification Report\u001b[0;0m\n",
            "*********************\n",
            "              precision    recall  f1-score   support\n",
            "\n",
            "           0       0.46      0.60      0.52       147\n",
            "           1       0.68      0.55      0.61       226\n",
            "\n",
            "    accuracy                           0.57       373\n",
            "   macro avg       0.57      0.57      0.56       373\n",
            "weighted avg       0.59      0.57      0.57       373\n",
            "\n"
          ],
          "name": "stdout"
        }
      ]
    },
    {
      "cell_type": "code",
      "metadata": {
        "colab_type": "code",
        "id": "yRtPcDr80d5-",
        "colab": {
          "base_uri": "https://localhost:8080/",
          "height": 335
        },
        "outputId": "89dd6b48-b8c3-4706-877d-fb4c75c049b6"
      },
      "source": [
        "import seaborn as sn\n",
        "cmLR = confusion_matrix(y_test, pred_y_test)\n",
        "cmLR = cmLR.astype('float') / cmLR.sum(axis=1)[:, np.newaxis]\n",
        "\n",
        "df_cmLR = pd.DataFrame(cmLR)\n",
        "\n",
        "plt.figure(figsize = (10,5))\n",
        "plt.title(\"Confusion Matrix for Classification\")\n",
        "sn.heatmap(df_cmLR, annot=True)\n",
        "plt.show()"
      ],
      "execution_count": 368,
      "outputs": [
        {
          "output_type": "display_data",
          "data": {
            "image/png": "[encoded data removed]",
            "text/plain": [
              "<Figure size 720x360 with 2 Axes>"
            ]
          },
          "metadata": {
            "tags": []
          }
        }
      ]
    },
    {
      "cell_type": "code",
      "metadata": {
        "colab_type": "code",
        "id": "xJqnfLMZ0lnr",
        "colab": {
          "base_uri": "https://localhost:8080/",
          "height": 411
        },
        "outputId": "8b2da21b-78cb-4310-ace5-d86f4146174e"
      },
      "source": [
        "#Plot Loss Curves\n",
        "from sklearn.model_selection import learning_curve\n",
        "train_sizes, train_scores, validation_scores = learning_curve(estimator = nnet_Corr, X = x_train_corr, y = y_train, cv = 5, scoring = 'accuracy')\n",
        "\n",
        "train_scores_mean = train_scores.mean(axis = 1)\n",
        "validation_scores_mean = validation_scores.mean(axis = 1)\n",
        "\n",
        "import matplotlib.pyplot as plt\n",
        "\n",
        "plt.style.use('seaborn')\n",
        "plt.plot(train_sizes, train_scores_mean, label = 'Training score')\n",
        "plt.plot(train_sizes, validation_scores_mean, label = 'Validation score')\n",
        "plt.ylabel('Accuracy', fontsize = 14)\n",
        "plt.xlabel('Training set size', fontsize = 14)\n",
        "plt.title('Learning curves for the Gabor-Corr trained model', fontsize = 18, y = 1.03)\n",
        "plt.legend()"
      ],
      "execution_count": 370,
      "outputs": [
        {
          "output_type": "execute_result",
          "data": {
            "text/plain": [
              "<matplotlib.legend.Legend at 0x7fb634f441d0>"
            ]
          },
          "metadata": {
            "tags": []
          },
          "execution_count": 370
        },
        {
          "output_type": "display_data",
          "data": {
            "image/png": "[encoded data removed]",
            "text/plain": [
              "<Figure size 576x396 with 1 Axes>"
            ]
          },
          "metadata": {
            "tags": []
          }
        }
      ]
    },
    {
      "cell_type": "code",
      "metadata": {
        "colab_type": "code",
        "id": "2-dyurW51lXu",
        "colab": {
          "base_uri": "https://localhost:8080/",
          "height": 376
        },
        "outputId": "88760781-1ceb-462b-a511-612fde161c62"
      },
      "source": [
        "# Plot ROC Curve\n",
        "\n",
        "from sklearn.metrics import roc_curve, roc_auc_score\n",
        "from sklearn.model_selection import cross_val_predict\n",
        "\n",
        "y_train_prob_Corr = cross_val_predict(nnet_Corr, x_train_corr, y_train, cv = 10, method = \"predict_proba\")\n",
        "y_train_scores_Corr = y_train_prob_Corr[:,1]\n",
        "fpr, tpr, thresholds = roc_curve(y_train,y_train_scores_Corr)\n",
        "\n",
        "# Area Under the Curve\n",
        "roc_auc = roc_auc_score(y_train, y_train_scores_Corr)\n",
        "\n",
        "def plot_roc_curve(fpr, tpr, label):\n",
        "  plt.plot(fpr, tpr, linewidth = 2, label = label)\n",
        "  plt.plot([0,1], [0,1], 'k--') #Dashed Diagonal\n",
        "  plt.xlabel(\"False Positive Rate\")\n",
        "  plt.ylabel(\"True Positive Rate (Recall)\")\n",
        "  plt.title(\"ROC Curve: %f\" % roc_auc)\n",
        "\n",
        "plot_roc_curve(fpr, tpr, \"CORR NNET\")\n",
        "plt.legend(loc = \"lower right\")\n",
        "plt.show()"
      ],
      "execution_count": 371,
      "outputs": [
        {
          "output_type": "display_data",
          "data": {
            "image/png": "[encoded data removed]",
            "text/plain": [
              "<Figure size 576x396 with 1 Axes>"
            ]
          },
          "metadata": {
            "tags": []
          }
        }
      ]
    }
  ]
}